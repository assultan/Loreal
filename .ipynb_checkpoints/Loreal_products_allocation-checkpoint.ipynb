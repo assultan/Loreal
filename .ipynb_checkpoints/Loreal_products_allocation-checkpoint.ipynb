{
 "cells": [
  {
   "cell_type": "code",
   "execution_count": 1,
   "id": "8d7c3ba8",
   "metadata": {},
   "outputs": [],
   "source": [
    "import pandas as pd\n",
    "import numpy as np\n",
    "import matplotlib.pyplot as plt\n",
    "plt.style.use('fivethirtyeight')"
   ]
  },
  {
   "cell_type": "code",
   "execution_count": 2,
   "id": "e1cc9cd7",
   "metadata": {},
   "outputs": [],
   "source": [
    "url = 'https://drive.google.com/file/d/1GRRfOnM0cwB9cRlyUVZHw0com64VFz9o/view?usp=sharing'\n",
    "url='https://drive.google.com/uc?id=' + url.split('/')[-2]\n",
    "df = pd.read_csv(url, encoding='iso-8859-1', on_bad_lines='skip')"
   ]
  },
  {
   "cell_type": "code",
   "execution_count": 3,
   "id": "7cc2ce99",
   "metadata": {},
   "outputs": [
    {
     "data": {
      "text/html": [
       "<div>\n",
       "<style scoped>\n",
       "    .dataframe tbody tr th:only-of-type {\n",
       "        vertical-align: middle;\n",
       "    }\n",
       "\n",
       "    .dataframe tbody tr th {\n",
       "        vertical-align: top;\n",
       "    }\n",
       "\n",
       "    .dataframe thead th {\n",
       "        text-align: right;\n",
       "    }\n",
       "</style>\n",
       "<table border=\"1\" class=\"dataframe\">\n",
       "  <thead>\n",
       "    <tr style=\"text-align: right;\">\n",
       "      <th></th>\n",
       "      <th>Retailer Code</th>\n",
       "      <th>Retailer Name</th>\n",
       "      <th>Door Code</th>\n",
       "      <th>Door Name</th>\n",
       "      <th>Door Zip Code</th>\n",
       "      <th>Year</th>\n",
       "      <th>Week</th>\n",
       "      <th>UPC</th>\n",
       "      <th>SKU Category</th>\n",
       "      <th>SKU Descreption</th>\n",
       "      <th>POS Units</th>\n",
       "      <th>POS Amount</th>\n",
       "    </tr>\n",
       "  </thead>\n",
       "  <tbody>\n",
       "    <tr>\n",
       "      <th>0</th>\n",
       "      <td>SEP</td>\n",
       "      <td>SEPHORA CANADA</td>\n",
       "      <td>246843</td>\n",
       "      <td>SEPHORA #1520 LINDENWOODS</td>\n",
       "      <td>R3P 2N3</td>\n",
       "      <td>2022</td>\n",
       "      <td>142022</td>\n",
       "      <td>8435137727100</td>\n",
       "      <td>NaN</td>\n",
       "      <td>PRADA CANDY EDP V30ML V0</td>\n",
       "      <td>1.0</td>\n",
       "      <td>90.0</td>\n",
       "    </tr>\n",
       "    <tr>\n",
       "      <th>1</th>\n",
       "      <td>SEP</td>\n",
       "      <td>SEPHORA CANADA</td>\n",
       "      <td>247394</td>\n",
       "      <td>SEPHORA #1538 TRINITY CROSSING</td>\n",
       "      <td>K4A 5E6</td>\n",
       "      <td>2022</td>\n",
       "      <td>142022</td>\n",
       "      <td>8435137727100</td>\n",
       "      <td>NaN</td>\n",
       "      <td>PRADA CANDY EDP V30ML V0</td>\n",
       "      <td>1.0</td>\n",
       "      <td>90.0</td>\n",
       "    </tr>\n",
       "    <tr>\n",
       "      <th>2</th>\n",
       "      <td>SEP</td>\n",
       "      <td>SEPHORA CANADA</td>\n",
       "      <td>229841</td>\n",
       "      <td>SEPHORA #518 OTTAWA</td>\n",
       "      <td>K1N 9J7</td>\n",
       "      <td>2022</td>\n",
       "      <td>142022</td>\n",
       "      <td>3605970326494</td>\n",
       "      <td>NaN</td>\n",
       "      <td>LANC RML CR NUIT J75ML SUB</td>\n",
       "      <td>1.0</td>\n",
       "      <td>30.8</td>\n",
       "    </tr>\n",
       "    <tr>\n",
       "      <th>3</th>\n",
       "      <td>SEP</td>\n",
       "      <td>SEPHORA CANADA</td>\n",
       "      <td>229842</td>\n",
       "      <td>SEPHORA #522 PTE-CLAIRE</td>\n",
       "      <td>H9R 1C4</td>\n",
       "      <td>2022</td>\n",
       "      <td>142022</td>\n",
       "      <td>3360374000110</td>\n",
       "      <td>NaN</td>\n",
       "      <td>VR FLBB BODY MILK 200ML SUB</td>\n",
       "      <td>1.0</td>\n",
       "      <td>73.0</td>\n",
       "    </tr>\n",
       "    <tr>\n",
       "      <th>4</th>\n",
       "      <td>SEP</td>\n",
       "      <td>SEPHORA CANADA</td>\n",
       "      <td>238292</td>\n",
       "      <td>SEPHORA #578 DIX30</td>\n",
       "      <td>J4Y 0L1</td>\n",
       "      <td>2022</td>\n",
       "      <td>142022</td>\n",
       "      <td>3360374000110</td>\n",
       "      <td>NaN</td>\n",
       "      <td>VR FLBB BODY MILK 200ML SUB</td>\n",
       "      <td>1.0</td>\n",
       "      <td>73.0</td>\n",
       "    </tr>\n",
       "  </tbody>\n",
       "</table>\n",
       "</div>"
      ],
      "text/plain": [
       "  Retailer Code   Retailer Name  Door Code                       Door Name  \\\n",
       "0           SEP  SEPHORA CANADA     246843       SEPHORA #1520 LINDENWOODS   \n",
       "1           SEP  SEPHORA CANADA     247394  SEPHORA #1538 TRINITY CROSSING   \n",
       "2           SEP  SEPHORA CANADA     229841             SEPHORA #518 OTTAWA   \n",
       "3           SEP  SEPHORA CANADA     229842         SEPHORA #522 PTE-CLAIRE   \n",
       "4           SEP  SEPHORA CANADA     238292              SEPHORA #578 DIX30   \n",
       "\n",
       "  Door Zip Code  Year    Week            UPC  SKU Category  \\\n",
       "0       R3P 2N3  2022  142022  8435137727100           NaN   \n",
       "1       K4A 5E6  2022  142022  8435137727100           NaN   \n",
       "2       K1N 9J7  2022  142022  3605970326494           NaN   \n",
       "3       H9R 1C4  2022  142022  3360374000110           NaN   \n",
       "4       J4Y 0L1  2022  142022  3360374000110           NaN   \n",
       "\n",
       "               SKU Descreption  POS Units  POS Amount  \n",
       "0     PRADA CANDY EDP V30ML V0        1.0        90.0  \n",
       "1     PRADA CANDY EDP V30ML V0        1.0        90.0  \n",
       "2   LANC RML CR NUIT J75ML SUB        1.0        30.8  \n",
       "3  VR FLBB BODY MILK 200ML SUB        1.0        73.0  \n",
       "4  VR FLBB BODY MILK 200ML SUB        1.0        73.0  "
      ]
     },
     "execution_count": 3,
     "metadata": {},
     "output_type": "execute_result"
    }
   ],
   "source": [
    "df.head()"
   ]
  },
  {
   "cell_type": "code",
   "execution_count": 4,
   "id": "b752709e",
   "metadata": {},
   "outputs": [
    {
     "data": {
      "text/plain": [
       "(302019, 12)"
      ]
     },
     "execution_count": 4,
     "metadata": {},
     "output_type": "execute_result"
    }
   ],
   "source": [
    "df.shape"
   ]
  },
  {
   "cell_type": "code",
   "execution_count": 5,
   "id": "f259e631",
   "metadata": {},
   "outputs": [
    {
     "name": "stdout",
     "output_type": "stream",
     "text": [
      "<class 'pandas.core.frame.DataFrame'>\n",
      "RangeIndex: 302019 entries, 0 to 302018\n",
      "Data columns (total 12 columns):\n",
      " #   Column           Non-Null Count   Dtype  \n",
      "---  ------           --------------   -----  \n",
      " 0   Retailer Code    302019 non-null  object \n",
      " 1   Retailer Name    293381 non-null  object \n",
      " 2   Door Code        302019 non-null  int64  \n",
      " 3   Door Name        302019 non-null  object \n",
      " 4   Door Zip Code    302019 non-null  object \n",
      " 5   Year             302019 non-null  int64  \n",
      " 6   Week             302019 non-null  int64  \n",
      " 7   UPC              302019 non-null  int64  \n",
      " 8   SKU Category     0 non-null       float64\n",
      " 9   SKU Descreption  302019 non-null  object \n",
      " 10  POS Units        302019 non-null  float64\n",
      " 11  POS Amount       301140 non-null  float64\n",
      "dtypes: float64(3), int64(4), object(5)\n",
      "memory usage: 27.7+ MB\n"
     ]
    }
   ],
   "source": [
    "df.info()"
   ]
  },
  {
   "cell_type": "code",
   "execution_count": 6,
   "id": "5c1cdb8a",
   "metadata": {},
   "outputs": [
    {
     "data": {
      "text/plain": [
       "Retailer Code           0\n",
       "Retailer Name        8638\n",
       "Door Code               0\n",
       "Door Name               0\n",
       "Door Zip Code           0\n",
       "Year                    0\n",
       "Week                    0\n",
       "UPC                     0\n",
       "SKU Category       302019\n",
       "SKU Descreption         0\n",
       "POS Units               0\n",
       "POS Amount            879\n",
       "dtype: int64"
      ]
     },
     "execution_count": 6,
     "metadata": {},
     "output_type": "execute_result"
    }
   ],
   "source": [
    "df.isna().sum()"
   ]
  },
  {
   "cell_type": "code",
   "execution_count": 7,
   "id": "f05b6d2e",
   "metadata": {},
   "outputs": [],
   "source": [
    "df.drop(['SKU Category'], axis=1, inplace=True)"
   ]
  },
  {
   "cell_type": "code",
   "execution_count": 8,
   "id": "296d4838",
   "metadata": {},
   "outputs": [],
   "source": [
    "inds = pd.isna(df['Retailer Name'])"
   ]
  },
  {
   "cell_type": "code",
   "execution_count": 9,
   "id": "5828306b",
   "metadata": {},
   "outputs": [],
   "source": [
    "indexes = [i for i,n in enumerate(list(inds)) if n==True]"
   ]
  },
  {
   "cell_type": "code",
   "execution_count": 10,
   "id": "09301543",
   "metadata": {},
   "outputs": [],
   "source": [
    "df_with_empty_values = df.iloc[indexes]"
   ]
  },
  {
   "cell_type": "code",
   "execution_count": 11,
   "id": "16704332",
   "metadata": {},
   "outputs": [
    {
     "data": {
      "text/html": [
       "<div>\n",
       "<style scoped>\n",
       "    .dataframe tbody tr th:only-of-type {\n",
       "        vertical-align: middle;\n",
       "    }\n",
       "\n",
       "    .dataframe tbody tr th {\n",
       "        vertical-align: top;\n",
       "    }\n",
       "\n",
       "    .dataframe thead th {\n",
       "        text-align: right;\n",
       "    }\n",
       "</style>\n",
       "<table border=\"1\" class=\"dataframe\">\n",
       "  <thead>\n",
       "    <tr style=\"text-align: right;\">\n",
       "      <th></th>\n",
       "      <th>Retailer Code</th>\n",
       "      <th>Retailer Name</th>\n",
       "      <th>Door Code</th>\n",
       "      <th>Door Name</th>\n",
       "      <th>Door Zip Code</th>\n",
       "      <th>Year</th>\n",
       "      <th>Week</th>\n",
       "      <th>UPC</th>\n",
       "      <th>SKU Descreption</th>\n",
       "      <th>POS Units</th>\n",
       "      <th>POS Amount</th>\n",
       "    </tr>\n",
       "  </thead>\n",
       "  <tbody>\n",
       "    <tr>\n",
       "      <th>11057</th>\n",
       "      <td>ECOM</td>\n",
       "      <td>NaN</td>\n",
       "      <td>600101</td>\n",
       "      <td>CLIENT INTERNET MAINE</td>\n",
       "      <td>UKN</td>\n",
       "      <td>2022</td>\n",
       "      <td>172022</td>\n",
       "      <td>3614273721189</td>\n",
       "      <td>BIOTH BTH AQS HYALU PROMO VALUE SET</td>\n",
       "      <td>1.0</td>\n",
       "      <td>33.28</td>\n",
       "    </tr>\n",
       "    <tr>\n",
       "      <th>11058</th>\n",
       "      <td>ECOM</td>\n",
       "      <td>NaN</td>\n",
       "      <td>600102</td>\n",
       "      <td>CLIENT INTERNET NEW HAMPSHIRE</td>\n",
       "      <td>UKN</td>\n",
       "      <td>2022</td>\n",
       "      <td>152022</td>\n",
       "      <td>3614271327352</td>\n",
       "      <td>BIOTH AQP SOIN NCS F/P 75ML R16 SUB</td>\n",
       "      <td>1.0</td>\n",
       "      <td>30.91</td>\n",
       "    </tr>\n",
       "    <tr>\n",
       "      <th>11059</th>\n",
       "      <td>ECOM</td>\n",
       "      <td>NaN</td>\n",
       "      <td>600104</td>\n",
       "      <td>CLIENT INTERNET MASSACHUSETTS</td>\n",
       "      <td>UKN</td>\n",
       "      <td>2022</td>\n",
       "      <td>152022</td>\n",
       "      <td>3614271327352</td>\n",
       "      <td>BIOTH AQP SOIN NCS F/P 75ML R16 SUB</td>\n",
       "      <td>2.0</td>\n",
       "      <td>64.19</td>\n",
       "    </tr>\n",
       "    <tr>\n",
       "      <th>11060</th>\n",
       "      <td>ECOM</td>\n",
       "      <td>NaN</td>\n",
       "      <td>600104</td>\n",
       "      <td>CLIENT INTERNET MASSACHUSETTS</td>\n",
       "      <td>UKN</td>\n",
       "      <td>2022</td>\n",
       "      <td>152022</td>\n",
       "      <td>3614271327352</td>\n",
       "      <td>BIOTH AQP SOIN NCS F/P 75ML R16 SUB</td>\n",
       "      <td>2.0</td>\n",
       "      <td>64.19</td>\n",
       "    </tr>\n",
       "    <tr>\n",
       "      <th>11061</th>\n",
       "      <td>ECOM</td>\n",
       "      <td>NaN</td>\n",
       "      <td>600104</td>\n",
       "      <td>CLIENT INTERNET MASSACHUSETTS</td>\n",
       "      <td>UKN</td>\n",
       "      <td>2022</td>\n",
       "      <td>162022</td>\n",
       "      <td>3614271327352</td>\n",
       "      <td>BIOTH AQP SOIN NCS F/P 75ML R16 SUB</td>\n",
       "      <td>2.0</td>\n",
       "      <td>64.19</td>\n",
       "    </tr>\n",
       "    <tr>\n",
       "      <th>...</th>\n",
       "      <td>...</td>\n",
       "      <td>...</td>\n",
       "      <td>...</td>\n",
       "      <td>...</td>\n",
       "      <td>...</td>\n",
       "      <td>...</td>\n",
       "      <td>...</td>\n",
       "      <td>...</td>\n",
       "      <td>...</td>\n",
       "      <td>...</td>\n",
       "      <td>...</td>\n",
       "    </tr>\n",
       "    <tr>\n",
       "      <th>299673</th>\n",
       "      <td>ECOM</td>\n",
       "      <td>NaN</td>\n",
       "      <td>600149</td>\n",
       "      <td>CLIENT INTERNET CALIFORNIA</td>\n",
       "      <td>UKN</td>\n",
       "      <td>2022</td>\n",
       "      <td>162022</td>\n",
       "      <td>4935421773515</td>\n",
       "      <td>SHU CO ULTIME8 2021 NEWPKG FS B50</td>\n",
       "      <td>1.0</td>\n",
       "      <td>13.14</td>\n",
       "    </tr>\n",
       "    <tr>\n",
       "      <th>299674</th>\n",
       "      <td>ECOM</td>\n",
       "      <td>NaN</td>\n",
       "      <td>600141</td>\n",
       "      <td>CLIENT INTERNET COLORADO</td>\n",
       "      <td>UKN</td>\n",
       "      <td>2022</td>\n",
       "      <td>152022</td>\n",
       "      <td>772192624325</td>\n",
       "      <td>BIOTH BT  RA SET WINTER  21</td>\n",
       "      <td>1.0</td>\n",
       "      <td>82.16</td>\n",
       "    </tr>\n",
       "    <tr>\n",
       "      <th>299675</th>\n",
       "      <td>ECOM</td>\n",
       "      <td>NaN</td>\n",
       "      <td>600147</td>\n",
       "      <td>CLIENT INTERNET WASHINGTON</td>\n",
       "      <td>UKN</td>\n",
       "      <td>2022</td>\n",
       "      <td>152022</td>\n",
       "      <td>772192624325</td>\n",
       "      <td>BIOTH BT  RA SET WINTER  21</td>\n",
       "      <td>1.0</td>\n",
       "      <td>82.15</td>\n",
       "    </tr>\n",
       "    <tr>\n",
       "      <th>299676</th>\n",
       "      <td>ECOM</td>\n",
       "      <td>NaN</td>\n",
       "      <td>600149</td>\n",
       "      <td>CLIENT INTERNET CALIFORNIA</td>\n",
       "      <td>UKN</td>\n",
       "      <td>2022</td>\n",
       "      <td>152022</td>\n",
       "      <td>772192624325</td>\n",
       "      <td>BIOTH BT  RA SET WINTER  21</td>\n",
       "      <td>4.0</td>\n",
       "      <td>328.61</td>\n",
       "    </tr>\n",
       "    <tr>\n",
       "      <th>299677</th>\n",
       "      <td>ECOM</td>\n",
       "      <td>NaN</td>\n",
       "      <td>600149</td>\n",
       "      <td>CLIENT INTERNET CALIFORNIA</td>\n",
       "      <td>UKN</td>\n",
       "      <td>2022</td>\n",
       "      <td>152022</td>\n",
       "      <td>772192624325</td>\n",
       "      <td>BIOTH BT  RA SET WINTER  21</td>\n",
       "      <td>2.0</td>\n",
       "      <td>164.30</td>\n",
       "    </tr>\n",
       "  </tbody>\n",
       "</table>\n",
       "<p>8638 rows × 11 columns</p>\n",
       "</div>"
      ],
      "text/plain": [
       "       Retailer Code Retailer Name  Door Code                      Door Name  \\\n",
       "11057           ECOM           NaN     600101          CLIENT INTERNET MAINE   \n",
       "11058           ECOM           NaN     600102  CLIENT INTERNET NEW HAMPSHIRE   \n",
       "11059           ECOM           NaN     600104  CLIENT INTERNET MASSACHUSETTS   \n",
       "11060           ECOM           NaN     600104  CLIENT INTERNET MASSACHUSETTS   \n",
       "11061           ECOM           NaN     600104  CLIENT INTERNET MASSACHUSETTS   \n",
       "...              ...           ...        ...                            ...   \n",
       "299673          ECOM           NaN     600149     CLIENT INTERNET CALIFORNIA   \n",
       "299674          ECOM           NaN     600141       CLIENT INTERNET COLORADO   \n",
       "299675          ECOM           NaN     600147     CLIENT INTERNET WASHINGTON   \n",
       "299676          ECOM           NaN     600149     CLIENT INTERNET CALIFORNIA   \n",
       "299677          ECOM           NaN     600149     CLIENT INTERNET CALIFORNIA   \n",
       "\n",
       "       Door Zip Code  Year    Week            UPC  \\\n",
       "11057            UKN  2022  172022  3614273721189   \n",
       "11058            UKN  2022  152022  3614271327352   \n",
       "11059            UKN  2022  152022  3614271327352   \n",
       "11060            UKN  2022  152022  3614271327352   \n",
       "11061            UKN  2022  162022  3614271327352   \n",
       "...              ...   ...     ...            ...   \n",
       "299673           UKN  2022  162022  4935421773515   \n",
       "299674           UKN  2022  152022   772192624325   \n",
       "299675           UKN  2022  152022   772192624325   \n",
       "299676           UKN  2022  152022   772192624325   \n",
       "299677           UKN  2022  152022   772192624325   \n",
       "\n",
       "                            SKU Descreption  POS Units  POS Amount  \n",
       "11057   BIOTH BTH AQS HYALU PROMO VALUE SET        1.0       33.28  \n",
       "11058   BIOTH AQP SOIN NCS F/P 75ML R16 SUB        1.0       30.91  \n",
       "11059   BIOTH AQP SOIN NCS F/P 75ML R16 SUB        2.0       64.19  \n",
       "11060   BIOTH AQP SOIN NCS F/P 75ML R16 SUB        2.0       64.19  \n",
       "11061   BIOTH AQP SOIN NCS F/P 75ML R16 SUB        2.0       64.19  \n",
       "...                                     ...        ...         ...  \n",
       "299673    SHU CO ULTIME8 2021 NEWPKG FS B50        1.0       13.14  \n",
       "299674          BIOTH BT  RA SET WINTER  21        1.0       82.16  \n",
       "299675          BIOTH BT  RA SET WINTER  21        1.0       82.15  \n",
       "299676          BIOTH BT  RA SET WINTER  21        4.0      328.61  \n",
       "299677          BIOTH BT  RA SET WINTER  21        2.0      164.30  \n",
       "\n",
       "[8638 rows x 11 columns]"
      ]
     },
     "execution_count": 11,
     "metadata": {},
     "output_type": "execute_result"
    }
   ],
   "source": [
    "df_with_empty_values"
   ]
  },
  {
   "cell_type": "code",
   "execution_count": 12,
   "id": "d3083ce3",
   "metadata": {},
   "outputs": [
    {
     "data": {
      "text/plain": [
       "ECOM    8638\n",
       "Name: Retailer Code, dtype: int64"
      ]
     },
     "execution_count": 12,
     "metadata": {},
     "output_type": "execute_result"
    }
   ],
   "source": [
    "df_with_empty_values['Retailer Code'].value_counts()"
   ]
  },
  {
   "cell_type": "code",
   "execution_count": 13,
   "id": "07f20c52",
   "metadata": {},
   "outputs": [],
   "source": [
    "df.loc[indexes, 'Retailer Name'] = 'ECOM'"
   ]
  },
  {
   "cell_type": "code",
   "execution_count": 14,
   "id": "f37cfb71",
   "metadata": {},
   "outputs": [
    {
     "data": {
      "text/plain": [
       "SDM     139218\n",
       "SEP      72830\n",
       "BAY      32628\n",
       "BOU      18482\n",
       "PJC      16844\n",
       "ECOM      8638\n",
       "LON       6846\n",
       "NST       2618\n",
       "HRF       2351\n",
       "UNI       1443\n",
       "AMA        120\n",
       "PHP          1\n",
       "Name: Retailer Code, dtype: int64"
      ]
     },
     "execution_count": 14,
     "metadata": {},
     "output_type": "execute_result"
    }
   ],
   "source": [
    "df['Retailer Code'].value_counts()"
   ]
  },
  {
   "cell_type": "code",
   "execution_count": 15,
   "id": "6eda34ae",
   "metadata": {},
   "outputs": [
    {
     "data": {
      "text/plain": [
       "SDM (HEAD OFFICE)          139218\n",
       "SEPHORA CANADA              72830\n",
       "LA BAIE                     32628\n",
       "BOUTIQUES KIEHL'S           18482\n",
       "JEAN-COUTU                  16844\n",
       "ECOM                         8638\n",
       "LONDON DRUGS                 6846\n",
       "NORDSTROM CANADA RETAIL      2618\n",
       "HOLT RENFREW                 2351\n",
       "UNIPRIX BUREAU CHEF          1443\n",
       "AMAZON                        120\n",
       "KATZ PHARMACY SERVICES          1\n",
       "Name: Retailer Name, dtype: int64"
      ]
     },
     "execution_count": 15,
     "metadata": {},
     "output_type": "execute_result"
    }
   ],
   "source": [
    "df['Retailer Name'].value_counts()"
   ]
  },
  {
   "cell_type": "code",
   "execution_count": 16,
   "id": "8bb9bef2",
   "metadata": {},
   "outputs": [
    {
     "data": {
      "text/html": [
       "<div>\n",
       "<style scoped>\n",
       "    .dataframe tbody tr th:only-of-type {\n",
       "        vertical-align: middle;\n",
       "    }\n",
       "\n",
       "    .dataframe tbody tr th {\n",
       "        vertical-align: top;\n",
       "    }\n",
       "\n",
       "    .dataframe thead th {\n",
       "        text-align: right;\n",
       "    }\n",
       "</style>\n",
       "<table border=\"1\" class=\"dataframe\">\n",
       "  <thead>\n",
       "    <tr style=\"text-align: right;\">\n",
       "      <th></th>\n",
       "      <th>Retailer Code</th>\n",
       "      <th>Retailer Name</th>\n",
       "      <th>Door Code</th>\n",
       "      <th>Door Name</th>\n",
       "      <th>Door Zip Code</th>\n",
       "      <th>Year</th>\n",
       "      <th>Week</th>\n",
       "      <th>UPC</th>\n",
       "      <th>SKU Descreption</th>\n",
       "      <th>POS Units</th>\n",
       "      <th>POS Amount</th>\n",
       "    </tr>\n",
       "  </thead>\n",
       "  <tbody>\n",
       "    <tr>\n",
       "      <th>0</th>\n",
       "      <td>SEP</td>\n",
       "      <td>SEPHORA CANADA</td>\n",
       "      <td>246843</td>\n",
       "      <td>SEPHORA #1520 LINDENWOODS</td>\n",
       "      <td>R3P 2N3</td>\n",
       "      <td>2022</td>\n",
       "      <td>142022</td>\n",
       "      <td>8435137727100</td>\n",
       "      <td>PRADA CANDY EDP V30ML V0</td>\n",
       "      <td>1.0</td>\n",
       "      <td>90.0</td>\n",
       "    </tr>\n",
       "    <tr>\n",
       "      <th>1</th>\n",
       "      <td>SEP</td>\n",
       "      <td>SEPHORA CANADA</td>\n",
       "      <td>247394</td>\n",
       "      <td>SEPHORA #1538 TRINITY CROSSING</td>\n",
       "      <td>K4A 5E6</td>\n",
       "      <td>2022</td>\n",
       "      <td>142022</td>\n",
       "      <td>8435137727100</td>\n",
       "      <td>PRADA CANDY EDP V30ML V0</td>\n",
       "      <td>1.0</td>\n",
       "      <td>90.0</td>\n",
       "    </tr>\n",
       "    <tr>\n",
       "      <th>2</th>\n",
       "      <td>SEP</td>\n",
       "      <td>SEPHORA CANADA</td>\n",
       "      <td>229841</td>\n",
       "      <td>SEPHORA #518 OTTAWA</td>\n",
       "      <td>K1N 9J7</td>\n",
       "      <td>2022</td>\n",
       "      <td>142022</td>\n",
       "      <td>3605970326494</td>\n",
       "      <td>LANC RML CR NUIT J75ML SUB</td>\n",
       "      <td>1.0</td>\n",
       "      <td>30.8</td>\n",
       "    </tr>\n",
       "    <tr>\n",
       "      <th>3</th>\n",
       "      <td>SEP</td>\n",
       "      <td>SEPHORA CANADA</td>\n",
       "      <td>229842</td>\n",
       "      <td>SEPHORA #522 PTE-CLAIRE</td>\n",
       "      <td>H9R 1C4</td>\n",
       "      <td>2022</td>\n",
       "      <td>142022</td>\n",
       "      <td>3360374000110</td>\n",
       "      <td>VR FLBB BODY MILK 200ML SUB</td>\n",
       "      <td>1.0</td>\n",
       "      <td>73.0</td>\n",
       "    </tr>\n",
       "    <tr>\n",
       "      <th>4</th>\n",
       "      <td>SEP</td>\n",
       "      <td>SEPHORA CANADA</td>\n",
       "      <td>238292</td>\n",
       "      <td>SEPHORA #578 DIX30</td>\n",
       "      <td>J4Y 0L1</td>\n",
       "      <td>2022</td>\n",
       "      <td>142022</td>\n",
       "      <td>3360374000110</td>\n",
       "      <td>VR FLBB BODY MILK 200ML SUB</td>\n",
       "      <td>1.0</td>\n",
       "      <td>73.0</td>\n",
       "    </tr>\n",
       "  </tbody>\n",
       "</table>\n",
       "</div>"
      ],
      "text/plain": [
       "  Retailer Code   Retailer Name  Door Code                       Door Name  \\\n",
       "0           SEP  SEPHORA CANADA     246843       SEPHORA #1520 LINDENWOODS   \n",
       "1           SEP  SEPHORA CANADA     247394  SEPHORA #1538 TRINITY CROSSING   \n",
       "2           SEP  SEPHORA CANADA     229841             SEPHORA #518 OTTAWA   \n",
       "3           SEP  SEPHORA CANADA     229842         SEPHORA #522 PTE-CLAIRE   \n",
       "4           SEP  SEPHORA CANADA     238292              SEPHORA #578 DIX30   \n",
       "\n",
       "  Door Zip Code  Year    Week            UPC              SKU Descreption  \\\n",
       "0       R3P 2N3  2022  142022  8435137727100     PRADA CANDY EDP V30ML V0   \n",
       "1       K4A 5E6  2022  142022  8435137727100     PRADA CANDY EDP V30ML V0   \n",
       "2       K1N 9J7  2022  142022  3605970326494   LANC RML CR NUIT J75ML SUB   \n",
       "3       H9R 1C4  2022  142022  3360374000110  VR FLBB BODY MILK 200ML SUB   \n",
       "4       J4Y 0L1  2022  142022  3360374000110  VR FLBB BODY MILK 200ML SUB   \n",
       "\n",
       "   POS Units  POS Amount  \n",
       "0        1.0        90.0  \n",
       "1        1.0        90.0  \n",
       "2        1.0        30.8  \n",
       "3        1.0        73.0  \n",
       "4        1.0        73.0  "
      ]
     },
     "execution_count": 16,
     "metadata": {},
     "output_type": "execute_result"
    }
   ],
   "source": [
    "df.head()"
   ]
  },
  {
   "cell_type": "code",
   "execution_count": 17,
   "id": "99eb8c3d",
   "metadata": {},
   "outputs": [],
   "source": [
    "pos_units = df['POS Units'].value_counts()"
   ]
  },
  {
   "cell_type": "code",
   "execution_count": 18,
   "id": "3bfd7729",
   "metadata": {},
   "outputs": [
    {
     "data": {
      "text/plain": [
       " 1.0    221672\n",
       " 2.0     40340\n",
       " 3.0     12232\n",
       "-1.0     10672\n",
       " 4.0      5473\n",
       " 5.0      2838\n",
       "Name: POS Units, dtype: int64"
      ]
     },
     "execution_count": 18,
     "metadata": {},
     "output_type": "execute_result"
    }
   ],
   "source": [
    "pos_units[:5]"
   ]
  },
  {
   "cell_type": "code",
   "execution_count": 19,
   "id": "f14242f5",
   "metadata": {},
   "outputs": [
    {
     "data": {
      "text/plain": [
       "<BarContainer object of 281 artists>"
      ]
     },
     "execution_count": 19,
     "metadata": {},
     "output_type": "execute_result"
    },
    {
     "data": {
      "image/png": "[encoded data removed]",
      "text/plain": [
       "<Figure size 432x288 with 1 Axes>"
      ]
     },
     "metadata": {
      "needs_background": "light"
     },
     "output_type": "display_data"
    }
   ],
   "source": [
    "plt.bar(pos_units.keys(), pos_units.values)"
   ]
  },
  {
   "cell_type": "code",
   "execution_count": 20,
   "id": "3686e292",
   "metadata": {},
   "outputs": [
    {
     "data": {
      "text/plain": [
       "152022    81715\n",
       "162022    75397\n",
       "172022    71001\n",
       "142022    67137\n",
       "182022     6769\n",
       "Name: Week, dtype: int64"
      ]
     },
     "execution_count": 20,
     "metadata": {},
     "output_type": "execute_result"
    }
   ],
   "source": [
    "df['Week'].value_counts()"
   ]
  },
  {
   "cell_type": "code",
   "execution_count": 21,
   "id": "73fe1783",
   "metadata": {},
   "outputs": [],
   "source": [
    "### Building "
   ]
  },
  {
   "cell_type": "markdown",
   "id": "7f276013",
   "metadata": {},
   "source": [
    "### Removing the unrequired features"
   ]
  },
  {
   "cell_type": "code",
   "execution_count": 22,
   "id": "12ed8bc3",
   "metadata": {},
   "outputs": [],
   "source": [
    "df.drop(['Retailer Code', 'Door Code', 'Door Name', 'Year', 'Week', 'SKU Descreption', 'POS Amount'], axis=1, inplace=True)"
   ]
  },
  {
   "cell_type": "code",
   "execution_count": 23,
   "id": "04e03a80",
   "metadata": {},
   "outputs": [
    {
     "data": {
      "text/html": [
       "<div>\n",
       "<style scoped>\n",
       "    .dataframe tbody tr th:only-of-type {\n",
       "        vertical-align: middle;\n",
       "    }\n",
       "\n",
       "    .dataframe tbody tr th {\n",
       "        vertical-align: top;\n",
       "    }\n",
       "\n",
       "    .dataframe thead th {\n",
       "        text-align: right;\n",
       "    }\n",
       "</style>\n",
       "<table border=\"1\" class=\"dataframe\">\n",
       "  <thead>\n",
       "    <tr style=\"text-align: right;\">\n",
       "      <th></th>\n",
       "      <th>Retailer Name</th>\n",
       "      <th>Door Zip Code</th>\n",
       "      <th>UPC</th>\n",
       "      <th>POS Units</th>\n",
       "    </tr>\n",
       "  </thead>\n",
       "  <tbody>\n",
       "    <tr>\n",
       "      <th>0</th>\n",
       "      <td>SEPHORA CANADA</td>\n",
       "      <td>R3P 2N3</td>\n",
       "      <td>8435137727100</td>\n",
       "      <td>1.0</td>\n",
       "    </tr>\n",
       "    <tr>\n",
       "      <th>1</th>\n",
       "      <td>SEPHORA CANADA</td>\n",
       "      <td>K4A 5E6</td>\n",
       "      <td>8435137727100</td>\n",
       "      <td>1.0</td>\n",
       "    </tr>\n",
       "    <tr>\n",
       "      <th>2</th>\n",
       "      <td>SEPHORA CANADA</td>\n",
       "      <td>K1N 9J7</td>\n",
       "      <td>3605970326494</td>\n",
       "      <td>1.0</td>\n",
       "    </tr>\n",
       "    <tr>\n",
       "      <th>3</th>\n",
       "      <td>SEPHORA CANADA</td>\n",
       "      <td>H9R 1C4</td>\n",
       "      <td>3360374000110</td>\n",
       "      <td>1.0</td>\n",
       "    </tr>\n",
       "    <tr>\n",
       "      <th>4</th>\n",
       "      <td>SEPHORA CANADA</td>\n",
       "      <td>J4Y 0L1</td>\n",
       "      <td>3360374000110</td>\n",
       "      <td>1.0</td>\n",
       "    </tr>\n",
       "  </tbody>\n",
       "</table>\n",
       "</div>"
      ],
      "text/plain": [
       "    Retailer Name Door Zip Code            UPC  POS Units\n",
       "0  SEPHORA CANADA       R3P 2N3  8435137727100        1.0\n",
       "1  SEPHORA CANADA       K4A 5E6  8435137727100        1.0\n",
       "2  SEPHORA CANADA       K1N 9J7  3605970326494        1.0\n",
       "3  SEPHORA CANADA       H9R 1C4  3360374000110        1.0\n",
       "4  SEPHORA CANADA       J4Y 0L1  3360374000110        1.0"
      ]
     },
     "execution_count": 23,
     "metadata": {},
     "output_type": "execute_result"
    }
   ],
   "source": [
    "df.head()"
   ]
  },
  {
   "cell_type": "code",
   "execution_count": 24,
   "id": "f7a1e45b",
   "metadata": {},
   "outputs": [
    {
     "data": {
      "text/plain": [
       "UKN        8638\n",
       "L6T 5A3    4901\n",
       "M5B 2H1    3557\n",
       "M9C 1B8    3551\n",
       "M6A 2T9    3463\n",
       "           ... \n",
       "N0P 2C0       1\n",
       "L3R 6E4       1\n",
       "J7A 4Z5       1\n",
       "H7L 1L5       1\n",
       "G1L 3R4       1\n",
       "Name: Door Zip Code, Length: 1864, dtype: int64"
      ]
     },
     "execution_count": 24,
     "metadata": {},
     "output_type": "execute_result"
    }
   ],
   "source": [
    "df['Door Zip Code'].value_counts()"
   ]
  },
  {
   "cell_type": "code",
   "execution_count": 25,
   "id": "130f0fc3",
   "metadata": {},
   "outputs": [],
   "source": [
    "retailers = df['Retailer Name'].value_counts()"
   ]
  },
  {
   "cell_type": "code",
   "execution_count": 26,
   "id": "95443b91",
   "metadata": {},
   "outputs": [
    {
     "data": {
      "text/plain": [
       "SDM (HEAD OFFICE)          139218\n",
       "SEPHORA CANADA              72830\n",
       "LA BAIE                     32628\n",
       "BOUTIQUES KIEHL'S           18482\n",
       "JEAN-COUTU                  16844\n",
       "ECOM                         8638\n",
       "LONDON DRUGS                 6846\n",
       "NORDSTROM CANADA RETAIL      2618\n",
       "HOLT RENFREW                 2351\n",
       "UNIPRIX BUREAU CHEF          1443\n",
       "AMAZON                        120\n",
       "KATZ PHARMACY SERVICES          1\n",
       "Name: Retailer Name, dtype: int64"
      ]
     },
     "execution_count": 26,
     "metadata": {},
     "output_type": "execute_result"
    }
   ],
   "source": [
    "retailers"
   ]
  },
  {
   "cell_type": "code",
   "execution_count": 27,
   "id": "75d3f793",
   "metadata": {},
   "outputs": [
    {
     "data": {
      "image/png": "[encoded data removed]",
      "text/plain": [
       "<Figure size 864x576 with 1 Axes>"
      ]
     },
     "metadata": {
      "needs_background": "light"
     },
     "output_type": "display_data"
    }
   ],
   "source": [
    "plt.figure(figsize = (12,8))\n",
    "plt.bar(retailers.keys(), retailers.values)\n",
    "plt.xticks(rotation=65);"
   ]
  },
  {
   "cell_type": "code",
   "execution_count": 28,
   "id": "5452108f",
   "metadata": {},
   "outputs": [
    {
     "data": {
      "text/html": [
       "<div>\n",
       "<style scoped>\n",
       "    .dataframe tbody tr th:only-of-type {\n",
       "        vertical-align: middle;\n",
       "    }\n",
       "\n",
       "    .dataframe tbody tr th {\n",
       "        vertical-align: top;\n",
       "    }\n",
       "\n",
       "    .dataframe thead th {\n",
       "        text-align: right;\n",
       "    }\n",
       "</style>\n",
       "<table border=\"1\" class=\"dataframe\">\n",
       "  <thead>\n",
       "    <tr style=\"text-align: right;\">\n",
       "      <th></th>\n",
       "      <th>Retailer Name</th>\n",
       "      <th>Door Zip Code</th>\n",
       "      <th>UPC</th>\n",
       "      <th>POS Units</th>\n",
       "    </tr>\n",
       "  </thead>\n",
       "  <tbody>\n",
       "    <tr>\n",
       "      <th>0</th>\n",
       "      <td>SEPHORA CANADA</td>\n",
       "      <td>R3P 2N3</td>\n",
       "      <td>8435137727100</td>\n",
       "      <td>1.0</td>\n",
       "    </tr>\n",
       "    <tr>\n",
       "      <th>1</th>\n",
       "      <td>SEPHORA CANADA</td>\n",
       "      <td>K4A 5E6</td>\n",
       "      <td>8435137727100</td>\n",
       "      <td>1.0</td>\n",
       "    </tr>\n",
       "    <tr>\n",
       "      <th>2</th>\n",
       "      <td>SEPHORA CANADA</td>\n",
       "      <td>K1N 9J7</td>\n",
       "      <td>3605970326494</td>\n",
       "      <td>1.0</td>\n",
       "    </tr>\n",
       "    <tr>\n",
       "      <th>3</th>\n",
       "      <td>SEPHORA CANADA</td>\n",
       "      <td>H9R 1C4</td>\n",
       "      <td>3360374000110</td>\n",
       "      <td>1.0</td>\n",
       "    </tr>\n",
       "    <tr>\n",
       "      <th>4</th>\n",
       "      <td>SEPHORA CANADA</td>\n",
       "      <td>J4Y 0L1</td>\n",
       "      <td>3360374000110</td>\n",
       "      <td>1.0</td>\n",
       "    </tr>\n",
       "  </tbody>\n",
       "</table>\n",
       "</div>"
      ],
      "text/plain": [
       "    Retailer Name Door Zip Code            UPC  POS Units\n",
       "0  SEPHORA CANADA       R3P 2N3  8435137727100        1.0\n",
       "1  SEPHORA CANADA       K4A 5E6  8435137727100        1.0\n",
       "2  SEPHORA CANADA       K1N 9J7  3605970326494        1.0\n",
       "3  SEPHORA CANADA       H9R 1C4  3360374000110        1.0\n",
       "4  SEPHORA CANADA       J4Y 0L1  3360374000110        1.0"
      ]
     },
     "execution_count": 28,
     "metadata": {},
     "output_type": "execute_result"
    }
   ],
   "source": [
    "df.head()"
   ]
  },
  {
   "cell_type": "markdown",
   "id": "77729abf",
   "metadata": {},
   "source": [
    "### Simplyfing the dataset"
   ]
  },
  {
   "cell_type": "code",
   "execution_count": 29,
   "id": "4b886e03",
   "metadata": {},
   "outputs": [],
   "source": [
    "### Given the below dataframe, how much units have been given to each retailer vs how much have been received back"
   ]
  },
  {
   "cell_type": "markdown",
   "id": "be834ede",
   "metadata": {},
   "source": [
    "### Percentage of returns"
   ]
  },
  {
   "cell_type": "code",
   "execution_count": 30,
   "id": "edd57bff",
   "metadata": {},
   "outputs": [],
   "source": [
    "df_returns = df.loc[df['POS Units'] <0]"
   ]
  },
  {
   "cell_type": "code",
   "execution_count": 31,
   "id": "6b98d4ae",
   "metadata": {},
   "outputs": [
    {
     "data": {
      "text/html": [
       "<div>\n",
       "<style scoped>\n",
       "    .dataframe tbody tr th:only-of-type {\n",
       "        vertical-align: middle;\n",
       "    }\n",
       "\n",
       "    .dataframe tbody tr th {\n",
       "        vertical-align: top;\n",
       "    }\n",
       "\n",
       "    .dataframe thead th {\n",
       "        text-align: right;\n",
       "    }\n",
       "</style>\n",
       "<table border=\"1\" class=\"dataframe\">\n",
       "  <thead>\n",
       "    <tr style=\"text-align: right;\">\n",
       "      <th></th>\n",
       "      <th>Retailer Name</th>\n",
       "      <th>Door Zip Code</th>\n",
       "      <th>UPC</th>\n",
       "      <th>POS Units</th>\n",
       "    </tr>\n",
       "  </thead>\n",
       "  <tbody>\n",
       "    <tr>\n",
       "      <th>5</th>\n",
       "      <td>SEPHORA CANADA</td>\n",
       "      <td>J4Y 0L1</td>\n",
       "      <td>3605971639944</td>\n",
       "      <td>-1.0</td>\n",
       "    </tr>\n",
       "    <tr>\n",
       "      <th>6</th>\n",
       "      <td>SEPHORA CANADA</td>\n",
       "      <td>H1M 1W9</td>\n",
       "      <td>3605972496751</td>\n",
       "      <td>-1.0</td>\n",
       "    </tr>\n",
       "    <tr>\n",
       "      <th>16</th>\n",
       "      <td>SEPHORA CANADA</td>\n",
       "      <td>H3B 5K4</td>\n",
       "      <td>3700194718541</td>\n",
       "      <td>-1.0</td>\n",
       "    </tr>\n",
       "    <tr>\n",
       "      <th>43</th>\n",
       "      <td>SEPHORA CANADA</td>\n",
       "      <td>L4L 9K5</td>\n",
       "      <td>3605972134004</td>\n",
       "      <td>-1.0</td>\n",
       "    </tr>\n",
       "    <tr>\n",
       "      <th>44</th>\n",
       "      <td>SEPHORA CANADA</td>\n",
       "      <td>L4L 9K5</td>\n",
       "      <td>817919019593</td>\n",
       "      <td>-1.0</td>\n",
       "    </tr>\n",
       "    <tr>\n",
       "      <th>...</th>\n",
       "      <td>...</td>\n",
       "      <td>...</td>\n",
       "      <td>...</td>\n",
       "      <td>...</td>\n",
       "    </tr>\n",
       "    <tr>\n",
       "      <th>301982</th>\n",
       "      <td>SEPHORA CANADA</td>\n",
       "      <td>M5B 2H1</td>\n",
       "      <td>4935421773515</td>\n",
       "      <td>-1.0</td>\n",
       "    </tr>\n",
       "    <tr>\n",
       "      <th>301991</th>\n",
       "      <td>SEPHORA CANADA</td>\n",
       "      <td>M9C 1B8</td>\n",
       "      <td>4935421773515</td>\n",
       "      <td>-1.0</td>\n",
       "    </tr>\n",
       "    <tr>\n",
       "      <th>301996</th>\n",
       "      <td>SEPHORA CANADA</td>\n",
       "      <td>V3Z 0C8</td>\n",
       "      <td>3605972659729</td>\n",
       "      <td>-1.0</td>\n",
       "    </tr>\n",
       "    <tr>\n",
       "      <th>302002</th>\n",
       "      <td>SEPHORA CANADA</td>\n",
       "      <td>L6T 3R5</td>\n",
       "      <td>3614272404786</td>\n",
       "      <td>-1.0</td>\n",
       "    </tr>\n",
       "    <tr>\n",
       "      <th>302015</th>\n",
       "      <td>SEPHORA CANADA</td>\n",
       "      <td>L2T 2K9</td>\n",
       "      <td>3614272404786</td>\n",
       "      <td>-1.0</td>\n",
       "    </tr>\n",
       "  </tbody>\n",
       "</table>\n",
       "<p>11205 rows × 4 columns</p>\n",
       "</div>"
      ],
      "text/plain": [
       "         Retailer Name Door Zip Code            UPC  POS Units\n",
       "5       SEPHORA CANADA       J4Y 0L1  3605971639944       -1.0\n",
       "6       SEPHORA CANADA       H1M 1W9  3605972496751       -1.0\n",
       "16      SEPHORA CANADA       H3B 5K4  3700194718541       -1.0\n",
       "43      SEPHORA CANADA       L4L 9K5  3605972134004       -1.0\n",
       "44      SEPHORA CANADA       L4L 9K5   817919019593       -1.0\n",
       "...                ...           ...            ...        ...\n",
       "301982  SEPHORA CANADA       M5B 2H1  4935421773515       -1.0\n",
       "301991  SEPHORA CANADA       M9C 1B8  4935421773515       -1.0\n",
       "301996  SEPHORA CANADA       V3Z 0C8  3605972659729       -1.0\n",
       "302002  SEPHORA CANADA       L6T 3R5  3614272404786       -1.0\n",
       "302015  SEPHORA CANADA       L2T 2K9  3614272404786       -1.0\n",
       "\n",
       "[11205 rows x 4 columns]"
      ]
     },
     "execution_count": 31,
     "metadata": {},
     "output_type": "execute_result"
    }
   ],
   "source": [
    "df_returns"
   ]
  },
  {
   "cell_type": "markdown",
   "id": "4bec3446",
   "metadata": {},
   "source": [
    "=> Some basic statistics that can be extracted are, Out of 302019 products allocation, 11205 times, the products are returned"
   ]
  },
  {
   "cell_type": "code",
   "execution_count": 32,
   "id": "4d2077bc",
   "metadata": {},
   "outputs": [],
   "source": [
    "return_percentage = (df_returns.shape[0]/df.shape[0])*100"
   ]
  },
  {
   "cell_type": "code",
   "execution_count": 33,
   "id": "2c74635b",
   "metadata": {},
   "outputs": [
    {
     "data": {
      "text/plain": [
       "3.710031488085187"
      ]
     },
     "execution_count": 33,
     "metadata": {},
     "output_type": "execute_result"
    }
   ],
   "source": [
    "return_percentage"
   ]
  },
  {
   "cell_type": "markdown",
   "id": "5988f9b6",
   "metadata": {},
   "source": [
    "### Lets find out which retailers have the highest return of products"
   ]
  },
  {
   "cell_type": "code",
   "execution_count": 34,
   "id": "5d3d7e5a",
   "metadata": {},
   "outputs": [
    {
     "data": {
      "text/html": [
       "<div>\n",
       "<style scoped>\n",
       "    .dataframe tbody tr th:only-of-type {\n",
       "        vertical-align: middle;\n",
       "    }\n",
       "\n",
       "    .dataframe tbody tr th {\n",
       "        vertical-align: top;\n",
       "    }\n",
       "\n",
       "    .dataframe thead th {\n",
       "        text-align: right;\n",
       "    }\n",
       "</style>\n",
       "<table border=\"1\" class=\"dataframe\">\n",
       "  <thead>\n",
       "    <tr style=\"text-align: right;\">\n",
       "      <th></th>\n",
       "      <th>Retailer Name</th>\n",
       "      <th>Door Zip Code</th>\n",
       "      <th>UPC</th>\n",
       "      <th>POS Units</th>\n",
       "    </tr>\n",
       "  </thead>\n",
       "  <tbody>\n",
       "    <tr>\n",
       "      <th>5</th>\n",
       "      <td>SEPHORA CANADA</td>\n",
       "      <td>J4Y 0L1</td>\n",
       "      <td>3605971639944</td>\n",
       "      <td>-1.0</td>\n",
       "    </tr>\n",
       "    <tr>\n",
       "      <th>6</th>\n",
       "      <td>SEPHORA CANADA</td>\n",
       "      <td>H1M 1W9</td>\n",
       "      <td>3605972496751</td>\n",
       "      <td>-1.0</td>\n",
       "    </tr>\n",
       "    <tr>\n",
       "      <th>16</th>\n",
       "      <td>SEPHORA CANADA</td>\n",
       "      <td>H3B 5K4</td>\n",
       "      <td>3700194718541</td>\n",
       "      <td>-1.0</td>\n",
       "    </tr>\n",
       "    <tr>\n",
       "      <th>43</th>\n",
       "      <td>SEPHORA CANADA</td>\n",
       "      <td>L4L 9K5</td>\n",
       "      <td>3605972134004</td>\n",
       "      <td>-1.0</td>\n",
       "    </tr>\n",
       "    <tr>\n",
       "      <th>44</th>\n",
       "      <td>SEPHORA CANADA</td>\n",
       "      <td>L4L 9K5</td>\n",
       "      <td>817919019593</td>\n",
       "      <td>-1.0</td>\n",
       "    </tr>\n",
       "  </tbody>\n",
       "</table>\n",
       "</div>"
      ],
      "text/plain": [
       "     Retailer Name Door Zip Code            UPC  POS Units\n",
       "5   SEPHORA CANADA       J4Y 0L1  3605971639944       -1.0\n",
       "6   SEPHORA CANADA       H1M 1W9  3605972496751       -1.0\n",
       "16  SEPHORA CANADA       H3B 5K4  3700194718541       -1.0\n",
       "43  SEPHORA CANADA       L4L 9K5  3605972134004       -1.0\n",
       "44  SEPHORA CANADA       L4L 9K5   817919019593       -1.0"
      ]
     },
     "execution_count": 34,
     "metadata": {},
     "output_type": "execute_result"
    }
   ],
   "source": [
    "df_returns.head()"
   ]
  },
  {
   "cell_type": "markdown",
   "id": "5f115efb",
   "metadata": {},
   "source": [
    "### No of times return happened for each retailer"
   ]
  },
  {
   "cell_type": "code",
   "execution_count": 35,
   "id": "e12ab637",
   "metadata": {},
   "outputs": [],
   "source": [
    "number_of_returns_for_retailers = df_returns.groupby(['Retailer Name']).count()['POS Units']"
   ]
  },
  {
   "cell_type": "code",
   "execution_count": 36,
   "id": "3a20257e",
   "metadata": {},
   "outputs": [
    {
     "data": {
      "image/png": "[encoded data removed]",
      "text/plain": [
       "<Figure size 864x576 with 1 Axes>"
      ]
     },
     "metadata": {
      "needs_background": "light"
     },
     "output_type": "display_data"
    }
   ],
   "source": [
    "plt.figure(figsize=(12,8))\n",
    "plt.title('No of times, each retailer has returned the items')\n",
    "plt.xticks(rotation=55)\n",
    "plt.bar(number_of_returns_for_retailers.keys(), number_of_returns_for_retailers.values);"
   ]
  },
  {
   "cell_type": "code",
   "execution_count": 137,
   "id": "e0e6b503",
   "metadata": {},
   "outputs": [
    {
     "data": {
      "text/plain": [
       "Retailer Name\n",
       "AMAZON                        1\n",
       "HOLT RENFREW                 35\n",
       "JEAN-COUTU                   94\n",
       "LONDON DRUGS                127\n",
       "NORDSTROM CANADA RETAIL     145\n",
       "SDM (HEAD OFFICE)          3184\n",
       "SEPHORA CANADA             7618\n",
       "UNIPRIX BUREAU CHEF           1\n",
       "Name: POS Units, dtype: int64"
      ]
     },
     "execution_count": 137,
     "metadata": {},
     "output_type": "execute_result"
    }
   ],
   "source": [
    "number_of_returns_for_retailers"
   ]
  },
  {
   "cell_type": "markdown",
   "id": "9596fdfa",
   "metadata": {},
   "source": [
    "### Total number of items that were returned by each retailer"
   ]
  },
  {
   "cell_type": "code",
   "execution_count": 37,
   "id": "12b5fa9a",
   "metadata": {},
   "outputs": [],
   "source": [
    "count_of_returns_for_retailers = df_returns.groupby(['Retailer Name'])['POS Units'].sum()"
   ]
  },
  {
   "cell_type": "code",
   "execution_count": 38,
   "id": "bf2b0724",
   "metadata": {},
   "outputs": [
    {
     "data": {
      "text/plain": [
       "Retailer Name\n",
       "AMAZON                       -1.0\n",
       "HOLT RENFREW                -38.0\n",
       "JEAN-COUTU                  -95.0\n",
       "LONDON DRUGS               -129.0\n",
       "NORDSTROM CANADA RETAIL    -164.0\n",
       "SDM (HEAD OFFICE)         -3314.0\n",
       "SEPHORA CANADA            -8134.0\n",
       "UNIPRIX BUREAU CHEF          -1.0\n",
       "Name: POS Units, dtype: float64"
      ]
     },
     "execution_count": 38,
     "metadata": {},
     "output_type": "execute_result"
    }
   ],
   "source": [
    "count_of_returns_for_retailers"
   ]
  },
  {
   "cell_type": "code",
   "execution_count": 39,
   "id": "8a4679ef",
   "metadata": {},
   "outputs": [],
   "source": [
    "total_items_returned_by_each_retailer = [np.abs(x) for x in count_of_returns_for_retailers.values]"
   ]
  },
  {
   "cell_type": "code",
   "execution_count": 40,
   "id": "fb522aff",
   "metadata": {},
   "outputs": [
    {
     "data": {
      "text/plain": [
       "[1.0, 38.0, 95.0, 129.0, 164.0, 3314.0, 8134.0, 1.0]"
      ]
     },
     "execution_count": 40,
     "metadata": {},
     "output_type": "execute_result"
    }
   ],
   "source": [
    "total_items_returned_by_each_retailer"
   ]
  },
  {
   "cell_type": "code",
   "execution_count": 41,
   "id": "36c5f2cb",
   "metadata": {},
   "outputs": [
    {
     "data": {
      "image/png": "[encoded data removed]",
      "text/plain": [
       "<Figure size 864x576 with 1 Axes>"
      ]
     },
     "metadata": {
      "needs_background": "light"
     },
     "output_type": "display_data"
    }
   ],
   "source": [
    "plt.figure(figsize=(12,8))\n",
    "plt.title('Number of items, each retailer has returned')\n",
    "plt.xticks(rotation=55)\n",
    "plt.bar(count_of_returns_for_retailers.keys(), total_items_returned_by_each_retailer);"
   ]
  },
  {
   "cell_type": "code",
   "execution_count": 44,
   "id": "8f285d87",
   "metadata": {},
   "outputs": [
    {
     "data": {
      "text/plain": [
       "Retailer Name\n",
       "AMAZON                       -1.0\n",
       "HOLT RENFREW                -38.0\n",
       "JEAN-COUTU                  -95.0\n",
       "LONDON DRUGS               -129.0\n",
       "NORDSTROM CANADA RETAIL    -164.0\n",
       "SDM (HEAD OFFICE)         -3314.0\n",
       "SEPHORA CANADA            -8134.0\n",
       "UNIPRIX BUREAU CHEF          -1.0\n",
       "Name: POS Units, dtype: float64"
      ]
     },
     "execution_count": 44,
     "metadata": {},
     "output_type": "execute_result"
    }
   ],
   "source": [
    "count_of_returns_for_retailers"
   ]
  },
  {
   "cell_type": "code",
   "execution_count": 45,
   "id": "b9e77ed3",
   "metadata": {},
   "outputs": [
    {
     "data": {
      "text/html": [
       "<div>\n",
       "<style scoped>\n",
       "    .dataframe tbody tr th:only-of-type {\n",
       "        vertical-align: middle;\n",
       "    }\n",
       "\n",
       "    .dataframe tbody tr th {\n",
       "        vertical-align: top;\n",
       "    }\n",
       "\n",
       "    .dataframe thead th {\n",
       "        text-align: right;\n",
       "    }\n",
       "</style>\n",
       "<table border=\"1\" class=\"dataframe\">\n",
       "  <thead>\n",
       "    <tr style=\"text-align: right;\">\n",
       "      <th></th>\n",
       "      <th>Retailer Name</th>\n",
       "      <th>Door Zip Code</th>\n",
       "      <th>UPC</th>\n",
       "      <th>POS Units</th>\n",
       "    </tr>\n",
       "  </thead>\n",
       "  <tbody>\n",
       "    <tr>\n",
       "      <th>5</th>\n",
       "      <td>SEPHORA CANADA</td>\n",
       "      <td>J4Y 0L1</td>\n",
       "      <td>3605971639944</td>\n",
       "      <td>-1.0</td>\n",
       "    </tr>\n",
       "    <tr>\n",
       "      <th>6</th>\n",
       "      <td>SEPHORA CANADA</td>\n",
       "      <td>H1M 1W9</td>\n",
       "      <td>3605972496751</td>\n",
       "      <td>-1.0</td>\n",
       "    </tr>\n",
       "    <tr>\n",
       "      <th>16</th>\n",
       "      <td>SEPHORA CANADA</td>\n",
       "      <td>H3B 5K4</td>\n",
       "      <td>3700194718541</td>\n",
       "      <td>-1.0</td>\n",
       "    </tr>\n",
       "    <tr>\n",
       "      <th>43</th>\n",
       "      <td>SEPHORA CANADA</td>\n",
       "      <td>L4L 9K5</td>\n",
       "      <td>3605972134004</td>\n",
       "      <td>-1.0</td>\n",
       "    </tr>\n",
       "    <tr>\n",
       "      <th>44</th>\n",
       "      <td>SEPHORA CANADA</td>\n",
       "      <td>L4L 9K5</td>\n",
       "      <td>817919019593</td>\n",
       "      <td>-1.0</td>\n",
       "    </tr>\n",
       "  </tbody>\n",
       "</table>\n",
       "</div>"
      ],
      "text/plain": [
       "     Retailer Name Door Zip Code            UPC  POS Units\n",
       "5   SEPHORA CANADA       J4Y 0L1  3605971639944       -1.0\n",
       "6   SEPHORA CANADA       H1M 1W9  3605972496751       -1.0\n",
       "16  SEPHORA CANADA       H3B 5K4  3700194718541       -1.0\n",
       "43  SEPHORA CANADA       L4L 9K5  3605972134004       -1.0\n",
       "44  SEPHORA CANADA       L4L 9K5   817919019593       -1.0"
      ]
     },
     "execution_count": 45,
     "metadata": {},
     "output_type": "execute_result"
    }
   ],
   "source": [
    "df_returns.head()"
   ]
  },
  {
   "cell_type": "code",
   "execution_count": 46,
   "id": "f929ccf5",
   "metadata": {},
   "outputs": [],
   "source": [
    "items_delivered_to_retailers = df[df['POS Units']>0].groupby(['Retailer Name'])['POS Units'].sum()"
   ]
  },
  {
   "cell_type": "code",
   "execution_count": 47,
   "id": "87cd2ffb",
   "metadata": {},
   "outputs": [],
   "source": [
    "items_returned_from_retailers = df_returns.groupby(['Retailer Name'])['POS Units'].sum()"
   ]
  },
  {
   "cell_type": "markdown",
   "id": "c798f534",
   "metadata": {},
   "source": [
    "### Since not every retailer has returned the items, we will look at those who did returns"
   ]
  },
  {
   "cell_type": "code",
   "execution_count": 48,
   "id": "0c29845b",
   "metadata": {},
   "outputs": [],
   "source": [
    "retailers_that_returned_items = list(set(items_delivered_to_retailers.keys()).intersection(items_returned_from_retailers.keys()))\n",
    "retailers_that_never_returned_items = list(set(items_delivered_to_retailers.keys()).difference(items_returned_from_retailers.keys()))"
   ]
  },
  {
   "cell_type": "markdown",
   "id": "8fc18a01",
   "metadata": {},
   "source": [
    "### Retailers who did returns"
   ]
  },
  {
   "cell_type": "code",
   "execution_count": 49,
   "id": "16609838",
   "metadata": {},
   "outputs": [
    {
     "data": {
      "text/plain": [
       "['SDM (HEAD OFFICE)',\n",
       " 'NORDSTROM CANADA RETAIL',\n",
       " 'LONDON DRUGS',\n",
       " 'UNIPRIX BUREAU CHEF',\n",
       " 'HOLT RENFREW',\n",
       " 'JEAN-COUTU',\n",
       " 'SEPHORA CANADA',\n",
       " 'AMAZON']"
      ]
     },
     "execution_count": 49,
     "metadata": {},
     "output_type": "execute_result"
    }
   ],
   "source": [
    "retailers_that_returned_items"
   ]
  },
  {
   "cell_type": "code",
   "execution_count": 205,
   "id": "6bdaa1e6",
   "metadata": {},
   "outputs": [],
   "source": [
    "retailers_with_items_delivered = df[(df['POS Units'] > 0) & (df['Retailer Name'].isin(retailers_that_returned_items))].groupby(['Retailer Name'])['POS Units'].count()"
   ]
  },
  {
   "cell_type": "code",
   "execution_count": 206,
   "id": "a970d21d",
   "metadata": {},
   "outputs": [],
   "source": [
    "retailers_with_items_returned = df[(df['POS Units'] < 0) & (df['Retailer Name'].isin(retailers_that_returned_items))].groupby(['Retailer Name'])['POS Units'].count()"
   ]
  },
  {
   "cell_type": "code",
   "execution_count": 211,
   "id": "a1a88191",
   "metadata": {},
   "outputs": [
    {
     "data": {
      "image/png": "[encoded data removed]",
      "text/plain": [
       "<Figure size 864x576 with 1 Axes>"
      ]
     },
     "metadata": {},
     "output_type": "display_data"
    }
   ],
   "source": [
    "plt.figure(figsize=(12,8))\n",
    "plt.title('No of times, products delivered vs returned to each Retailer by Loreal')\n",
    "plt.xticks(rotation=55)\n",
    "plt.bar(retailers_with_items_delivered.keys(), retailers_with_items_delivered.values);\n",
    "plt.bar(retailers_with_items_returned.keys(), retailers_with_items_returned.values);"
   ]
  },
  {
   "cell_type": "code",
   "execution_count": 212,
   "id": "771ebf63",
   "metadata": {},
   "outputs": [
    {
     "data": {
      "text/plain": [
       "Retailer Name\n",
       "AMAZON                        119\n",
       "HOLT RENFREW                 2316\n",
       "JEAN-COUTU                  16750\n",
       "LONDON DRUGS                 6719\n",
       "NORDSTROM CANADA RETAIL      2473\n",
       "SDM (HEAD OFFICE)          136034\n",
       "SEPHORA CANADA              65212\n",
       "UNIPRIX BUREAU CHEF          1442\n",
       "Name: POS Units, dtype: int64"
      ]
     },
     "execution_count": 212,
     "metadata": {},
     "output_type": "execute_result"
    }
   ],
   "source": [
    "retailers_with_items_delivered"
   ]
  },
  {
   "cell_type": "code",
   "execution_count": 213,
   "id": "7011b2ac",
   "metadata": {},
   "outputs": [
    {
     "data": {
      "text/plain": [
       "Retailer Name\n",
       "AMAZON                        1\n",
       "HOLT RENFREW                 35\n",
       "JEAN-COUTU                   94\n",
       "LONDON DRUGS                127\n",
       "NORDSTROM CANADA RETAIL     145\n",
       "SDM (HEAD OFFICE)          3184\n",
       "SEPHORA CANADA             7618\n",
       "UNIPRIX BUREAU CHEF           1\n",
       "Name: POS Units, dtype: int64"
      ]
     },
     "execution_count": 213,
     "metadata": {},
     "output_type": "execute_result"
    }
   ],
   "source": [
    "retailers_with_items_returned"
   ]
  },
  {
   "cell_type": "markdown",
   "id": "0f16ae99",
   "metadata": {},
   "source": [
    "### Retailers that have never returned any products (Best to remove these retailers while developing the model)"
   ]
  },
  {
   "cell_type": "code",
   "execution_count": 189,
   "id": "faf53456",
   "metadata": {},
   "outputs": [
    {
     "data": {
      "text/plain": [
       "['KATZ PHARMACY SERVICES', 'ECOM', \"BOUTIQUES KIEHL'S\", 'LA BAIE']"
      ]
     },
     "execution_count": 189,
     "metadata": {},
     "output_type": "execute_result"
    }
   ],
   "source": [
    "retailers_that_never_returned_items"
   ]
  },
  {
   "cell_type": "code",
   "execution_count": 56,
   "id": "24288abf",
   "metadata": {},
   "outputs": [],
   "source": [
    "### Stacked Bar Chart that shows the no. of times products received vs no. of times products returned (2 colors in 1 bar)"
   ]
  },
  {
   "cell_type": "code",
   "execution_count": 64,
   "id": "5bee0876",
   "metadata": {},
   "outputs": [
    {
     "data": {
      "text/html": [
       "<div>\n",
       "<style scoped>\n",
       "    .dataframe tbody tr th:only-of-type {\n",
       "        vertical-align: middle;\n",
       "    }\n",
       "\n",
       "    .dataframe tbody tr th {\n",
       "        vertical-align: top;\n",
       "    }\n",
       "\n",
       "    .dataframe thead th {\n",
       "        text-align: right;\n",
       "    }\n",
       "</style>\n",
       "<table border=\"1\" class=\"dataframe\">\n",
       "  <thead>\n",
       "    <tr style=\"text-align: right;\">\n",
       "      <th></th>\n",
       "      <th>Retailer Name</th>\n",
       "      <th>Door Zip Code</th>\n",
       "      <th>UPC</th>\n",
       "      <th>POS Units</th>\n",
       "    </tr>\n",
       "  </thead>\n",
       "  <tbody>\n",
       "    <tr>\n",
       "      <th>0</th>\n",
       "      <td>SEPHORA CANADA</td>\n",
       "      <td>R3P 2N3</td>\n",
       "      <td>8435137727100</td>\n",
       "      <td>1.0</td>\n",
       "    </tr>\n",
       "    <tr>\n",
       "      <th>1</th>\n",
       "      <td>SEPHORA CANADA</td>\n",
       "      <td>K4A 5E6</td>\n",
       "      <td>8435137727100</td>\n",
       "      <td>1.0</td>\n",
       "    </tr>\n",
       "    <tr>\n",
       "      <th>2</th>\n",
       "      <td>SEPHORA CANADA</td>\n",
       "      <td>K1N 9J7</td>\n",
       "      <td>3605970326494</td>\n",
       "      <td>1.0</td>\n",
       "    </tr>\n",
       "  </tbody>\n",
       "</table>\n",
       "</div>"
      ],
      "text/plain": [
       "    Retailer Name Door Zip Code            UPC  POS Units\n",
       "0  SEPHORA CANADA       R3P 2N3  8435137727100        1.0\n",
       "1  SEPHORA CANADA       K4A 5E6  8435137727100        1.0\n",
       "2  SEPHORA CANADA       K1N 9J7  3605970326494        1.0"
      ]
     },
     "execution_count": 64,
     "metadata": {},
     "output_type": "execute_result"
    }
   ],
   "source": [
    "df.head(3)"
   ]
  },
  {
   "cell_type": "code",
   "execution_count": 62,
   "id": "eaf19dc5",
   "metadata": {},
   "outputs": [
    {
     "data": {
      "text/plain": [
       "array(['SEPHORA CANADA', 'LONDON DRUGS', 'NORDSTROM CANADA RETAIL',\n",
       "       'LA BAIE', 'HOLT RENFREW', 'JEAN-COUTU', 'SDM (HEAD OFFICE)',\n",
       "       'AMAZON', \"BOUTIQUES KIEHL'S\", 'ECOM', 'UNIPRIX BUREAU CHEF',\n",
       "       'KATZ PHARMACY SERVICES'], dtype=object)"
      ]
     },
     "execution_count": 62,
     "metadata": {},
     "output_type": "execute_result"
    }
   ],
   "source": [
    "#products returned vs received by each retailer\n",
    "retailers = df['Retailer Name'].unique()\n",
    "retailers"
   ]
  },
  {
   "cell_type": "code",
   "execution_count": 61,
   "id": "0363578f",
   "metadata": {},
   "outputs": [
    {
     "data": {
      "text/plain": [
       "array(['SEPHORA CANADA', 'LONDON DRUGS', 'NORDSTROM CANADA RETAIL',\n",
       "       'LA BAIE', 'HOLT RENFREW', 'JEAN-COUTU', 'SDM (HEAD OFFICE)',\n",
       "       'AMAZON', \"BOUTIQUES KIEHL'S\", 'ECOM', 'UNIPRIX BUREAU CHEF',\n",
       "       'KATZ PHARMACY SERVICES'], dtype=object)"
      ]
     },
     "execution_count": 61,
     "metadata": {},
     "output_type": "execute_result"
    }
   ],
   "source": [
    "df."
   ]
  },
  {
   "cell_type": "code",
   "execution_count": 57,
   "id": "be77ca3c",
   "metadata": {},
   "outputs": [],
   "source": [
    "### Stacked Bar Chart that shows the count products received vs no. of times products returned (2 colors in 1 bar)"
   ]
  },
  {
   "cell_type": "code",
   "execution_count": 58,
   "id": "4c64691a",
   "metadata": {},
   "outputs": [],
   "source": [
    "### Which particular products are returned the most by retailer"
   ]
  },
  {
   "cell_type": "code",
   "execution_count": null,
   "id": "b21faa4d",
   "metadata": {},
   "outputs": [],
   "source": [
    "### Which particular products are returned the most by each store in retailer"
   ]
  },
  {
   "cell_type": "markdown",
   "id": "1ff9b275",
   "metadata": {},
   "source": [
    "### Lets find out which stores for each retailers have the highest return of products"
   ]
  },
  {
   "cell_type": "code",
   "execution_count": null,
   "id": "3357e4d2",
   "metadata": {},
   "outputs": [],
   "source": []
  },
  {
   "cell_type": "code",
   "execution_count": null,
   "id": "758f3507",
   "metadata": {},
   "outputs": [],
   "source": []
  },
  {
   "cell_type": "code",
   "execution_count": null,
   "id": "6e794caf",
   "metadata": {},
   "outputs": [],
   "source": []
  },
  {
   "cell_type": "markdown",
   "id": "21551487",
   "metadata": {},
   "source": [
    "### finding any anomalies"
   ]
  }
 ],
 "metadata": {
  "kernelspec": {
   "display_name": "Python 3 (ipykernel)",
   "language": "python",
   "name": "python3"
  },
  "language_info": {
   "codemirror_mode": {
    "name": "ipython",
    "version": 3
   },
   "file_extension": ".py",
   "mimetype": "text/x-python",
   "name": "python",
   "nbconvert_exporter": "python",
   "pygments_lexer": "ipython3",
   "version": "3.10.5"
  }
 },
 "nbformat": 4,
 "nbformat_minor": 5
}
