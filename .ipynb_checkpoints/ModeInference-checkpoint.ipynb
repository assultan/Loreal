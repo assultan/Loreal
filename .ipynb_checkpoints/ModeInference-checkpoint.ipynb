{
 "cells": [
  {
   "cell_type": "code",
   "execution_count": 1,
   "id": "6826832f",
   "metadata": {},
   "outputs": [],
   "source": [
    "from joblib import load"
   ]
  },
  {
   "cell_type": "code",
   "execution_count": 2,
   "id": "61a156ed",
   "metadata": {},
   "outputs": [],
   "source": [
    "model = load('UseCase1.h5')"
   ]
  },
  {
   "cell_type": "markdown",
   "id": "6b901271",
   "metadata": {},
   "source": [
    "### PlaceHolders [London Drugs:0, Jean Coutu: 1]"
   ]
  },
  {
   "cell_type": "code",
   "execution_count": 10,
   "id": "c86a54a2",
   "metadata": {},
   "outputs": [],
   "source": [
    "retail_dict = {'London Drugs':0, 'Jean Coutu': 1}"
   ]
  },
  {
   "cell_type": "code",
   "execution_count": 26,
   "id": "8331bfbb",
   "metadata": {},
   "outputs": [],
   "source": [
    "upc = 3614272889491\n",
    "# retailer = 'Jean Coutu'\n",
    "retailer = 'London Drugs'"
   ]
  },
  {
   "cell_type": "code",
   "execution_count": 27,
   "id": "141c6e8b",
   "metadata": {},
   "outputs": [],
   "source": [
    "retailer_encoded = retail_dict[retailer]"
   ]
  },
  {
   "cell_type": "code",
   "execution_count": 28,
   "id": "bd8d7404",
   "metadata": {},
   "outputs": [],
   "source": [
    "input_data = [upc,retailer_encoded]"
   ]
  },
  {
   "cell_type": "code",
   "execution_count": 29,
   "id": "a71d433e",
   "metadata": {},
   "outputs": [
    {
     "name": "stderr",
     "output_type": "stream",
     "text": [
      "C:\\Users\\Mehreen Faisal\\AppData\\Local\\Programs\\Python\\Python310\\lib\\site-packages\\sklearn\\base.py:450: UserWarning: X does not have valid feature names, but RandomForestRegressor was fitted with feature names\n",
      "  warnings.warn(\n"
     ]
    },
    {
     "data": {
      "text/plain": [
       "array([22.02763735])"
      ]
     },
     "execution_count": 29,
     "metadata": {},
     "output_type": "execute_result"
    }
   ],
   "source": [
    "model.predict([input_data])"
   ]
  },
  {
   "cell_type": "markdown",
   "id": "1b13dd3e",
   "metadata": {},
   "source": [
    "### London Drugs should be allocated 22 units of the given upc"
   ]
  }
 ],
 "metadata": {
  "kernelspec": {
   "display_name": "Python 3 (ipykernel)",
   "language": "python",
   "name": "python3"
  },
  "language_info": {
   "codemirror_mode": {
    "name": "ipython",
    "version": 3
   },
   "file_extension": ".py",
   "mimetype": "text/x-python",
   "name": "python",
   "nbconvert_exporter": "python",
   "pygments_lexer": "ipython3",
   "version": "3.10.5"
  }
 },
 "nbformat": 4,
 "nbformat_minor": 5
}
