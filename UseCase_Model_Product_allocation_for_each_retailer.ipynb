{
 "cells": [
  {
   "cell_type": "markdown",
   "id": "5efa1c4a",
   "metadata": {},
   "source": [
    "### The Agenda of this notebook is just to deep dive into the data, perform some EDA to learn some patterns and then these points will help us in Feature Engineering"
   ]
  },
  {
   "cell_type": "code",
   "execution_count": 39,
   "id": "8d7c3ba8",
   "metadata": {},
   "outputs": [],
   "source": [
    "import pandas as pd\n",
    "import numpy as np\n",
    "import matplotlib.pyplot as plt\n",
    "plt.style.use('fivethirtyeight')"
   ]
  },
  {
   "cell_type": "code",
   "execution_count": 40,
   "id": "e1cc9cd7",
   "metadata": {},
   "outputs": [],
   "source": [
    "url = 'https://drive.google.com/file/d/1GRRfOnM0cwB9cRlyUVZHw0com64VFz9o/view?usp=sharing'\n",
    "url='https://drive.google.com/uc?id=' + url.split('/')[-2]\n",
    "df = pd.read_csv(url, encoding='iso-8859-1', on_bad_lines='skip')"
   ]
  },
  {
   "cell_type": "code",
   "execution_count": 41,
   "id": "d8fd61bb",
   "metadata": {},
   "outputs": [],
   "source": [
    "df = df[df['Retailer Name'].isin(['LONDON DRUGS', 'JEAN-COUTU'])]"
   ]
  },
  {
   "cell_type": "code",
   "execution_count": 42,
   "id": "4d91f495",
   "metadata": {},
   "outputs": [
    {
     "data": {
      "text/html": [
       "<div>\n",
       "<style scoped>\n",
       "    .dataframe tbody tr th:only-of-type {\n",
       "        vertical-align: middle;\n",
       "    }\n",
       "\n",
       "    .dataframe tbody tr th {\n",
       "        vertical-align: top;\n",
       "    }\n",
       "\n",
       "    .dataframe thead th {\n",
       "        text-align: right;\n",
       "    }\n",
       "</style>\n",
       "<table border=\"1\" class=\"dataframe\">\n",
       "  <thead>\n",
       "    <tr style=\"text-align: right;\">\n",
       "      <th></th>\n",
       "      <th>Retailer Code</th>\n",
       "      <th>Retailer Name</th>\n",
       "      <th>Door Code</th>\n",
       "      <th>Door Name</th>\n",
       "      <th>Door Zip Code</th>\n",
       "      <th>Year</th>\n",
       "      <th>Week</th>\n",
       "      <th>UPC</th>\n",
       "      <th>SKU Category</th>\n",
       "      <th>SKU Descreption</th>\n",
       "      <th>POS Units</th>\n",
       "      <th>POS Amount</th>\n",
       "    </tr>\n",
       "  </thead>\n",
       "  <tbody>\n",
       "    <tr>\n",
       "      <th>144</th>\n",
       "      <td>LON</td>\n",
       "      <td>LONDON DRUGS</td>\n",
       "      <td>216861</td>\n",
       "      <td>LONDON DRUGS #60</td>\n",
       "      <td>T1B 1E2</td>\n",
       "      <td>2022</td>\n",
       "      <td>152022</td>\n",
       "      <td>8435137727100</td>\n",
       "      <td>NaN</td>\n",
       "      <td>PRADA CANDY EDP V30ML V0</td>\n",
       "      <td>1.0</td>\n",
       "      <td>85.0</td>\n",
       "    </tr>\n",
       "    <tr>\n",
       "      <th>145</th>\n",
       "      <td>LON</td>\n",
       "      <td>LONDON DRUGS</td>\n",
       "      <td>239308</td>\n",
       "      <td>LONDON DRUGS #86</td>\n",
       "      <td>S4W 0B7</td>\n",
       "      <td>2022</td>\n",
       "      <td>152022</td>\n",
       "      <td>3360372058861</td>\n",
       "      <td>NaN</td>\n",
       "      <td>GA ADGH EDT SP 50ML SUB</td>\n",
       "      <td>1.0</td>\n",
       "      <td>95.0</td>\n",
       "    </tr>\n",
       "    <tr>\n",
       "      <th>146</th>\n",
       "      <td>LON</td>\n",
       "      <td>LONDON DRUGS</td>\n",
       "      <td>239308</td>\n",
       "      <td>LONDON DRUGS #86</td>\n",
       "      <td>S4W 0B7</td>\n",
       "      <td>2022</td>\n",
       "      <td>152022</td>\n",
       "      <td>3365440375055</td>\n",
       "      <td>NaN</td>\n",
       "      <td>YSL NUIT EDT SPRAY 60ML SUB</td>\n",
       "      <td>1.0</td>\n",
       "      <td>96.0</td>\n",
       "    </tr>\n",
       "    <tr>\n",
       "      <th>147</th>\n",
       "      <td>LON</td>\n",
       "      <td>LONDON DRUGS</td>\n",
       "      <td>221758</td>\n",
       "      <td>LONDON DRUGS #65</td>\n",
       "      <td>S7K 5S6</td>\n",
       "      <td>2022</td>\n",
       "      <td>152022</td>\n",
       "      <td>3360372058861</td>\n",
       "      <td>NaN</td>\n",
       "      <td>GA ADGH EDT SP 50ML SUB</td>\n",
       "      <td>1.0</td>\n",
       "      <td>95.0</td>\n",
       "    </tr>\n",
       "    <tr>\n",
       "      <th>148</th>\n",
       "      <td>LON</td>\n",
       "      <td>LONDON DRUGS</td>\n",
       "      <td>213529</td>\n",
       "      <td>LONDON DRUGS #09</td>\n",
       "      <td>V3R 1B9</td>\n",
       "      <td>2022</td>\n",
       "      <td>152022</td>\n",
       "      <td>3605970326494</td>\n",
       "      <td>NaN</td>\n",
       "      <td>LANC RML CR NUIT J75ML SUB</td>\n",
       "      <td>1.0</td>\n",
       "      <td>148.0</td>\n",
       "    </tr>\n",
       "  </tbody>\n",
       "</table>\n",
       "</div>"
      ],
      "text/plain": [
       "    Retailer Code Retailer Name  Door Code         Door Name Door Zip Code  \\\n",
       "144           LON  LONDON DRUGS     216861  LONDON DRUGS #60       T1B 1E2   \n",
       "145           LON  LONDON DRUGS     239308  LONDON DRUGS #86       S4W 0B7   \n",
       "146           LON  LONDON DRUGS     239308  LONDON DRUGS #86       S4W 0B7   \n",
       "147           LON  LONDON DRUGS     221758  LONDON DRUGS #65       S7K 5S6   \n",
       "148           LON  LONDON DRUGS     213529  LONDON DRUGS #09       V3R 1B9   \n",
       "\n",
       "     Year    Week            UPC  SKU Category              SKU Descreption  \\\n",
       "144  2022  152022  8435137727100           NaN     PRADA CANDY EDP V30ML V0   \n",
       "145  2022  152022  3360372058861           NaN      GA ADGH EDT SP 50ML SUB   \n",
       "146  2022  152022  3365440375055           NaN  YSL NUIT EDT SPRAY 60ML SUB   \n",
       "147  2022  152022  3360372058861           NaN      GA ADGH EDT SP 50ML SUB   \n",
       "148  2022  152022  3605970326494           NaN   LANC RML CR NUIT J75ML SUB   \n",
       "\n",
       "     POS Units  POS Amount  \n",
       "144        1.0        85.0  \n",
       "145        1.0        95.0  \n",
       "146        1.0        96.0  \n",
       "147        1.0        95.0  \n",
       "148        1.0       148.0  "
      ]
     },
     "execution_count": 42,
     "metadata": {},
     "output_type": "execute_result"
    }
   ],
   "source": [
    "df.head()"
   ]
  },
  {
   "cell_type": "markdown",
   "id": "37367c34",
   "metadata": {},
   "source": [
    "### Model to find the products allocation for each Retailer"
   ]
  },
  {
   "cell_type": "markdown",
   "id": "ce9faa07",
   "metadata": {},
   "source": [
    "### Product Allocation for London Drugs"
   ]
  },
  {
   "cell_type": "code",
   "execution_count": 43,
   "id": "e272521a",
   "metadata": {},
   "outputs": [
    {
     "data": {
      "text/html": [
       "<div>\n",
       "<style scoped>\n",
       "    .dataframe tbody tr th:only-of-type {\n",
       "        vertical-align: middle;\n",
       "    }\n",
       "\n",
       "    .dataframe tbody tr th {\n",
       "        vertical-align: top;\n",
       "    }\n",
       "\n",
       "    .dataframe thead th {\n",
       "        text-align: right;\n",
       "    }\n",
       "</style>\n",
       "<table border=\"1\" class=\"dataframe\">\n",
       "  <thead>\n",
       "    <tr style=\"text-align: right;\">\n",
       "      <th></th>\n",
       "      <th>Retailer Code</th>\n",
       "      <th>UPC</th>\n",
       "      <th>POS Units</th>\n",
       "    </tr>\n",
       "  </thead>\n",
       "  <tbody>\n",
       "    <tr>\n",
       "      <th>144</th>\n",
       "      <td>LON</td>\n",
       "      <td>8435137727100</td>\n",
       "      <td>1.0</td>\n",
       "    </tr>\n",
       "    <tr>\n",
       "      <th>145</th>\n",
       "      <td>LON</td>\n",
       "      <td>3360372058861</td>\n",
       "      <td>1.0</td>\n",
       "    </tr>\n",
       "    <tr>\n",
       "      <th>146</th>\n",
       "      <td>LON</td>\n",
       "      <td>3365440375055</td>\n",
       "      <td>1.0</td>\n",
       "    </tr>\n",
       "    <tr>\n",
       "      <th>147</th>\n",
       "      <td>LON</td>\n",
       "      <td>3360372058861</td>\n",
       "      <td>1.0</td>\n",
       "    </tr>\n",
       "    <tr>\n",
       "      <th>148</th>\n",
       "      <td>LON</td>\n",
       "      <td>3605970326494</td>\n",
       "      <td>1.0</td>\n",
       "    </tr>\n",
       "  </tbody>\n",
       "</table>\n",
       "</div>"
      ],
      "text/plain": [
       "    Retailer Code            UPC  POS Units\n",
       "144           LON  8435137727100        1.0\n",
       "145           LON  3360372058861        1.0\n",
       "146           LON  3365440375055        1.0\n",
       "147           LON  3360372058861        1.0\n",
       "148           LON  3605970326494        1.0"
      ]
     },
     "execution_count": 43,
     "metadata": {},
     "output_type": "execute_result"
    }
   ],
   "source": [
    "model_df_ld = df.loc[df['Retailer Name'] == 'LONDON DRUGS'][['Retailer Code', 'UPC', 'POS Units']]\n",
    "model_df_ld.head()"
   ]
  },
  {
   "cell_type": "code",
   "execution_count": 44,
   "id": "6819343f",
   "metadata": {},
   "outputs": [
    {
     "data": {
      "text/plain": [
       "(801,)"
      ]
     },
     "execution_count": 44,
     "metadata": {},
     "output_type": "execute_result"
    }
   ],
   "source": [
    "unique_upcs = model_df_ld['UPC'].unique()\n",
    "unique_upcs.shape"
   ]
  },
  {
   "cell_type": "code",
   "execution_count": 45,
   "id": "08eb2031",
   "metadata": {},
   "outputs": [],
   "source": [
    "model_df_ld_allocated = model_df_ld[model_df_ld['POS Units']>0]\n",
    "model_df_ld_returned = model_df_ld[model_df_ld['POS Units']<0]"
   ]
  },
  {
   "cell_type": "markdown",
   "id": "833f2b2f",
   "metadata": {},
   "source": [
    "### Prepare the dataset where find the appropriate number of items against each upc i.e., UPC = items allocated - items returned for each retailer i.e UPC 123 is being allocated 10 times to London Drugs and 13 times to Jean-Coutu and returned 7 times from London drugs and 5 times from Jean-Coutu so the desired data format would be:\n",
    "\n",
    "London Drugs = 10-7 = 3\n",
    "Jean Coutu = 13-5 = 8"
   ]
  },
  {
   "cell_type": "code",
   "execution_count": 46,
   "id": "e3159ca1",
   "metadata": {},
   "outputs": [
    {
     "data": {
      "text/plain": [
       "801"
      ]
     },
     "execution_count": 46,
     "metadata": {},
     "output_type": "execute_result"
    }
   ],
   "source": [
    "len(unique_upcs)"
   ]
  },
  {
   "cell_type": "code",
   "execution_count": 47,
   "id": "a103ea74",
   "metadata": {},
   "outputs": [],
   "source": [
    "ld_adjusted_products = {}\n",
    "for upc in unique_upcs:\n",
    "    #get the sum of all the products that were allocated for each upc\n",
    "    allocated_units = sum(model_df_ld_allocated[model_df_ld_allocated['UPC'] == upc]['POS Units'])\n",
    "    returned_units = sum(model_df_ld_returned[model_df_ld_returned['UPC'] == upc]['POS Units'])\n",
    "    ld_adjusted_products[upc] = allocated_units - returned_units"
   ]
  },
  {
   "cell_type": "code",
   "execution_count": 48,
   "id": "dc69277d",
   "metadata": {},
   "outputs": [
    {
     "data": {
      "text/plain": [
       "801"
      ]
     },
     "execution_count": 48,
     "metadata": {},
     "output_type": "execute_result"
    }
   ],
   "source": [
    "len(list(ld_adjusted_products.keys()))"
   ]
  },
  {
   "cell_type": "markdown",
   "id": "d0aae54d",
   "metadata": {},
   "source": [
    "### Product Allocation for JEAN-COUTU"
   ]
  },
  {
   "cell_type": "code",
   "execution_count": 49,
   "id": "79b201c0",
   "metadata": {},
   "outputs": [
    {
     "data": {
      "text/html": [
       "<div>\n",
       "<style scoped>\n",
       "    .dataframe tbody tr th:only-of-type {\n",
       "        vertical-align: middle;\n",
       "    }\n",
       "\n",
       "    .dataframe tbody tr th {\n",
       "        vertical-align: top;\n",
       "    }\n",
       "\n",
       "    .dataframe thead th {\n",
       "        text-align: right;\n",
       "    }\n",
       "</style>\n",
       "<table border=\"1\" class=\"dataframe\">\n",
       "  <thead>\n",
       "    <tr style=\"text-align: right;\">\n",
       "      <th></th>\n",
       "      <th>Retailer Code</th>\n",
       "      <th>UPC</th>\n",
       "      <th>POS Units</th>\n",
       "    </tr>\n",
       "  </thead>\n",
       "  <tbody>\n",
       "    <tr>\n",
       "      <th>2473</th>\n",
       "      <td>PJC</td>\n",
       "      <td>3614270129681</td>\n",
       "      <td>1.0</td>\n",
       "    </tr>\n",
       "    <tr>\n",
       "      <th>2474</th>\n",
       "      <td>PJC</td>\n",
       "      <td>3614270129681</td>\n",
       "      <td>1.0</td>\n",
       "    </tr>\n",
       "    <tr>\n",
       "      <th>2475</th>\n",
       "      <td>PJC</td>\n",
       "      <td>3614270129681</td>\n",
       "      <td>1.0</td>\n",
       "    </tr>\n",
       "    <tr>\n",
       "      <th>2476</th>\n",
       "      <td>PJC</td>\n",
       "      <td>3614270129681</td>\n",
       "      <td>1.0</td>\n",
       "    </tr>\n",
       "    <tr>\n",
       "      <th>2477</th>\n",
       "      <td>PJC</td>\n",
       "      <td>3614270129681</td>\n",
       "      <td>1.0</td>\n",
       "    </tr>\n",
       "  </tbody>\n",
       "</table>\n",
       "</div>"
      ],
      "text/plain": [
       "     Retailer Code            UPC  POS Units\n",
       "2473           PJC  3614270129681        1.0\n",
       "2474           PJC  3614270129681        1.0\n",
       "2475           PJC  3614270129681        1.0\n",
       "2476           PJC  3614270129681        1.0\n",
       "2477           PJC  3614270129681        1.0"
      ]
     },
     "execution_count": 49,
     "metadata": {},
     "output_type": "execute_result"
    }
   ],
   "source": [
    "model_df_jc = df.loc[df['Retailer Name'] == 'JEAN-COUTU'][['Retailer Code', 'UPC', 'POS Units']]\n",
    "model_df_jc.head()"
   ]
  },
  {
   "cell_type": "code",
   "execution_count": 50,
   "id": "86704e04",
   "metadata": {},
   "outputs": [
    {
     "data": {
      "text/plain": [
       "(1002,)"
      ]
     },
     "execution_count": 50,
     "metadata": {},
     "output_type": "execute_result"
    }
   ],
   "source": [
    "unique_upcs = model_df_jc['UPC'].unique()\n",
    "unique_upcs.shape"
   ]
  },
  {
   "cell_type": "code",
   "execution_count": 51,
   "id": "c6f4970c",
   "metadata": {},
   "outputs": [],
   "source": [
    "model_df_jc_allocated = model_df_jc[model_df_jc['POS Units']>0]\n",
    "model_df_jc_returned = model_df_jc[model_df_jc['POS Units']<0]"
   ]
  },
  {
   "cell_type": "markdown",
   "id": "ea89dd0e",
   "metadata": {},
   "source": [
    "### Prepare the dataset where find the appropriate number of items against each upc i.e., UPC = items allocated - items returned for each retailer i.e UPC 123 is being allocated 10 times to London Drugs and 13 times to Jean-Coutu and returned 7 times from London drugs and 5 times from Jean-Coutu so the desired data format would be:\n",
    "\n",
    "London Drugs = 10-7 = 3\n",
    "Jean Coutu = 13-5 = 8"
   ]
  },
  {
   "cell_type": "code",
   "execution_count": 52,
   "id": "b7ff15f8",
   "metadata": {},
   "outputs": [
    {
     "data": {
      "text/plain": [
       "1002"
      ]
     },
     "execution_count": 52,
     "metadata": {},
     "output_type": "execute_result"
    }
   ],
   "source": [
    "len(unique_upcs)"
   ]
  },
  {
   "cell_type": "code",
   "execution_count": 53,
   "id": "6067c605",
   "metadata": {},
   "outputs": [],
   "source": [
    "jc_adjusted_products = {}\n",
    "for upc in unique_upcs:\n",
    "    #get the sum of all the products that were allocated for each upc\n",
    "    allocated_units = sum(model_df_jc_allocated[model_df_jc_allocated['UPC'] == upc]['POS Units'])\n",
    "    returned_units = sum(model_df_jc_returned[model_df_jc_returned['UPC'] == upc]['POS Units'])\n",
    "    jc_adjusted_products[upc] = allocated_units - returned_units"
   ]
  },
  {
   "cell_type": "code",
   "execution_count": 54,
   "id": "39c4aa1c",
   "metadata": {},
   "outputs": [
    {
     "data": {
      "text/plain": [
       "1002"
      ]
     },
     "execution_count": 54,
     "metadata": {},
     "output_type": "execute_result"
    }
   ],
   "source": [
    "len(list(jc_adjusted_products.keys()))"
   ]
  },
  {
   "cell_type": "code",
   "execution_count": 55,
   "id": "fb887f46",
   "metadata": {},
   "outputs": [],
   "source": [
    "jc_upcs = len(jc_adjusted_products.keys())\n",
    "ld_upcs = len(ld_adjusted_products.keys())"
   ]
  },
  {
   "cell_type": "code",
   "execution_count": 56,
   "id": "5d353f71",
   "metadata": {},
   "outputs": [
    {
     "data": {
      "text/plain": [
       "1803"
      ]
     },
     "execution_count": 56,
     "metadata": {},
     "output_type": "execute_result"
    }
   ],
   "source": [
    "retailers = []\n",
    "retailers.extend(['London Drugs' for x in range(ld_upcs)])\n",
    "retailers.extend(['Jean Coutu' for x in range(jc_upcs)])\n",
    "len(retailers)"
   ]
  },
  {
   "cell_type": "code",
   "execution_count": 57,
   "id": "f5257b74",
   "metadata": {},
   "outputs": [
    {
     "data": {
      "text/plain": [
       "1803"
      ]
     },
     "execution_count": 57,
     "metadata": {},
     "output_type": "execute_result"
    }
   ],
   "source": [
    "upcs_for_each_retailer = []\n",
    "upcs_for_each_retailer.extend([x[0] for x in jc_adjusted_products.items()])\n",
    "upcs_for_each_retailer.extend([x[0] for x in ld_adjusted_products.items()])\n",
    "len(upcs_for_each_retailer)"
   ]
  },
  {
   "cell_type": "code",
   "execution_count": 58,
   "id": "a17a6dfc",
   "metadata": {},
   "outputs": [
    {
     "data": {
      "text/plain": [
       "1803"
      ]
     },
     "execution_count": 58,
     "metadata": {},
     "output_type": "execute_result"
    }
   ],
   "source": [
    "adjusted_upc_amount_for_each_retailer = []\n",
    "adjusted_upc_amount_for_each_retailer.extend([x[1] for x in jc_adjusted_products.items()])\n",
    "adjusted_upc_amount_for_each_retailer.extend([x[1] for x in ld_adjusted_products.items()])\n",
    "len(adjusted_upc_amount_for_each_retailer)"
   ]
  },
  {
   "cell_type": "code",
   "execution_count": 59,
   "id": "f8c5dba5",
   "metadata": {},
   "outputs": [],
   "source": [
    "product_allocation_for_each_retailer = pd.DataFrame({'Retailer':retailers, \n",
    "                                                   'UPC': upcs_for_each_retailer,\n",
    "                                                   'Unit': adjusted_upc_amount_for_each_retailer})"
   ]
  },
  {
   "cell_type": "code",
   "execution_count": 60,
   "id": "a51acd2f",
   "metadata": {},
   "outputs": [
    {
     "data": {
      "text/html": [
       "<div>\n",
       "<style scoped>\n",
       "    .dataframe tbody tr th:only-of-type {\n",
       "        vertical-align: middle;\n",
       "    }\n",
       "\n",
       "    .dataframe tbody tr th {\n",
       "        vertical-align: top;\n",
       "    }\n",
       "\n",
       "    .dataframe thead th {\n",
       "        text-align: right;\n",
       "    }\n",
       "</style>\n",
       "<table border=\"1\" class=\"dataframe\">\n",
       "  <thead>\n",
       "    <tr style=\"text-align: right;\">\n",
       "      <th></th>\n",
       "      <th>Retailer</th>\n",
       "      <th>UPC</th>\n",
       "      <th>Unit</th>\n",
       "    </tr>\n",
       "  </thead>\n",
       "  <tbody>\n",
       "    <tr>\n",
       "      <th>1798</th>\n",
       "      <td>Jean Coutu</td>\n",
       "      <td>3614272889491</td>\n",
       "      <td>15.0</td>\n",
       "    </tr>\n",
       "    <tr>\n",
       "      <th>1799</th>\n",
       "      <td>Jean Coutu</td>\n",
       "      <td>3614270256332</td>\n",
       "      <td>2.0</td>\n",
       "    </tr>\n",
       "    <tr>\n",
       "      <th>1800</th>\n",
       "      <td>Jean Coutu</td>\n",
       "      <td>772191735237</td>\n",
       "      <td>3.0</td>\n",
       "    </tr>\n",
       "    <tr>\n",
       "      <th>1801</th>\n",
       "      <td>Jean Coutu</td>\n",
       "      <td>3614271412591</td>\n",
       "      <td>2.0</td>\n",
       "    </tr>\n",
       "    <tr>\n",
       "      <th>1802</th>\n",
       "      <td>Jean Coutu</td>\n",
       "      <td>3605970761134</td>\n",
       "      <td>1.0</td>\n",
       "    </tr>\n",
       "  </tbody>\n",
       "</table>\n",
       "</div>"
      ],
      "text/plain": [
       "        Retailer            UPC  Unit\n",
       "1798  Jean Coutu  3614272889491  15.0\n",
       "1799  Jean Coutu  3614270256332   2.0\n",
       "1800  Jean Coutu   772191735237   3.0\n",
       "1801  Jean Coutu  3614271412591   2.0\n",
       "1802  Jean Coutu  3605970761134   1.0"
      ]
     },
     "execution_count": 60,
     "metadata": {},
     "output_type": "execute_result"
    }
   ],
   "source": [
    "product_allocation_for_each_retailer.tail()"
   ]
  },
  {
   "cell_type": "code",
   "execution_count": 61,
   "id": "cc711783",
   "metadata": {},
   "outputs": [],
   "source": [
    "retail_dict = {'London Drugs':0, 'Jean Coutu': 1}"
   ]
  },
  {
   "cell_type": "code",
   "execution_count": 62,
   "id": "89d41931",
   "metadata": {},
   "outputs": [],
   "source": [
    "product_allocation_for_each_retailer['retailer'] = product_allocation_for_each_retailer['Retailer'].map(retail_dict)"
   ]
  },
  {
   "cell_type": "code",
   "execution_count": 63,
   "id": "14981156",
   "metadata": {},
   "outputs": [],
   "source": [
    "product_allocation_for_each_retailer.drop(['Retailer'], axis=1, inplace=True)"
   ]
  },
  {
   "cell_type": "code",
   "execution_count": 64,
   "id": "316fe724",
   "metadata": {},
   "outputs": [],
   "source": [
    "from sklearn.ensemble import RandomForestRegressor\n",
    "from sklearn.model_selection import train_test_split"
   ]
  },
  {
   "cell_type": "code",
   "execution_count": 65,
   "id": "5ac4e933",
   "metadata": {},
   "outputs": [],
   "source": [
    "X = product_allocation_for_each_retailer.drop(['Unit'], axis=1)\n",
    "y = product_allocation_for_each_retailer['Unit']"
   ]
  },
  {
   "cell_type": "code",
   "execution_count": 66,
   "id": "8a1bb044",
   "metadata": {},
   "outputs": [],
   "source": [
    "X_train, X_test, y_train, y_test = train_test_split(X, y, test_size=0.2)"
   ]
  },
  {
   "cell_type": "code",
   "execution_count": 67,
   "id": "5b6af903",
   "metadata": {},
   "outputs": [],
   "source": [
    "model = RandomForestRegressor()"
   ]
  },
  {
   "cell_type": "code",
   "execution_count": 68,
   "id": "e2c797f0",
   "metadata": {},
   "outputs": [
    {
     "data": {
      "text/html": [
       "<style>#sk-container-id-2 {color: black;background-color: white;}#sk-container-id-2 pre{padding: 0;}#sk-container-id-2 div.sk-toggleable {background-color: white;}#sk-container-id-2 label.sk-toggleable__label {cursor: pointer;display: block;width: 100%;margin-bottom: 0;padding: 0.3em;box-sizing: border-box;text-align: center;}#sk-container-id-2 label.sk-toggleable__label-arrow:before {content: \"▸\";float: left;margin-right: 0.25em;color: #696969;}#sk-container-id-2 label.sk-toggleable__label-arrow:hover:before {color: black;}#sk-container-id-2 div.sk-estimator:hover label.sk-toggleable__label-arrow:before {color: black;}#sk-container-id-2 div.sk-toggleable__content {max-height: 0;max-width: 0;overflow: hidden;text-align: left;background-color: #f0f8ff;}#sk-container-id-2 div.sk-toggleable__content pre {margin: 0.2em;color: black;border-radius: 0.25em;background-color: #f0f8ff;}#sk-container-id-2 input.sk-toggleable__control:checked~div.sk-toggleable__content {max-height: 200px;max-width: 100%;overflow: auto;}#sk-container-id-2 input.sk-toggleable__control:checked~label.sk-toggleable__label-arrow:before {content: \"▾\";}#sk-container-id-2 div.sk-estimator input.sk-toggleable__control:checked~label.sk-toggleable__label {background-color: #d4ebff;}#sk-container-id-2 div.sk-label input.sk-toggleable__control:checked~label.sk-toggleable__label {background-color: #d4ebff;}#sk-container-id-2 input.sk-hidden--visually {border: 0;clip: rect(1px 1px 1px 1px);clip: rect(1px, 1px, 1px, 1px);height: 1px;margin: -1px;overflow: hidden;padding: 0;position: absolute;width: 1px;}#sk-container-id-2 div.sk-estimator {font-family: monospace;background-color: #f0f8ff;border: 1px dotted black;border-radius: 0.25em;box-sizing: border-box;margin-bottom: 0.5em;}#sk-container-id-2 div.sk-estimator:hover {background-color: #d4ebff;}#sk-container-id-2 div.sk-parallel-item::after {content: \"\";width: 100%;border-bottom: 1px solid gray;flex-grow: 1;}#sk-container-id-2 div.sk-label:hover label.sk-toggleable__label {background-color: #d4ebff;}#sk-container-id-2 div.sk-serial::before {content: \"\";position: absolute;border-left: 1px solid gray;box-sizing: border-box;top: 0;bottom: 0;left: 50%;z-index: 0;}#sk-container-id-2 div.sk-serial {display: flex;flex-direction: column;align-items: center;background-color: white;padding-right: 0.2em;padding-left: 0.2em;position: relative;}#sk-container-id-2 div.sk-item {position: relative;z-index: 1;}#sk-container-id-2 div.sk-parallel {display: flex;align-items: stretch;justify-content: center;background-color: white;position: relative;}#sk-container-id-2 div.sk-item::before, #sk-container-id-2 div.sk-parallel-item::before {content: \"\";position: absolute;border-left: 1px solid gray;box-sizing: border-box;top: 0;bottom: 0;left: 50%;z-index: -1;}#sk-container-id-2 div.sk-parallel-item {display: flex;flex-direction: column;z-index: 1;position: relative;background-color: white;}#sk-container-id-2 div.sk-parallel-item:first-child::after {align-self: flex-end;width: 50%;}#sk-container-id-2 div.sk-parallel-item:last-child::after {align-self: flex-start;width: 50%;}#sk-container-id-2 div.sk-parallel-item:only-child::after {width: 0;}#sk-container-id-2 div.sk-dashed-wrapped {border: 1px dashed gray;margin: 0 0.4em 0.5em 0.4em;box-sizing: border-box;padding-bottom: 0.4em;background-color: white;}#sk-container-id-2 div.sk-label label {font-family: monospace;font-weight: bold;display: inline-block;line-height: 1.2em;}#sk-container-id-2 div.sk-label-container {text-align: center;}#sk-container-id-2 div.sk-container {/* jupyter's `normalize.less` sets `[hidden] { display: none; }` but bootstrap.min.css set `[hidden] { display: none !important; }` so we also need the `!important` here to be able to override the default hidden behavior on the sphinx rendered scikit-learn.org. See: https://github.com/scikit-learn/scikit-learn/issues/21755 */display: inline-block !important;position: relative;}#sk-container-id-2 div.sk-text-repr-fallback {display: none;}</style><div id=\"sk-container-id-2\" class=\"sk-top-container\"><div class=\"sk-text-repr-fallback\"><pre>RandomForestRegressor()</pre><b>In a Jupyter environment, please rerun this cell to show the HTML representation or trust the notebook. <br />On GitHub, the HTML representation is unable to render, please try loading this page with nbviewer.org.</b></div><div class=\"sk-container\" hidden><div class=\"sk-item\"><div class=\"sk-estimator sk-toggleable\"><input class=\"sk-toggleable__control sk-hidden--visually\" id=\"sk-estimator-id-2\" type=\"checkbox\" checked><label for=\"sk-estimator-id-2\" class=\"sk-toggleable__label sk-toggleable__label-arrow\">RandomForestRegressor</label><div class=\"sk-toggleable__content\"><pre>RandomForestRegressor()</pre></div></div></div></div></div>"
      ],
      "text/plain": [
       "RandomForestRegressor()"
      ]
     },
     "execution_count": 68,
     "metadata": {},
     "output_type": "execute_result"
    }
   ],
   "source": [
    "model.fit(X_train, y_train)"
   ]
  },
  {
   "cell_type": "code",
   "execution_count": 69,
   "id": "80a88069",
   "metadata": {},
   "outputs": [],
   "source": [
    "from joblib import dump, load"
   ]
  },
  {
   "cell_type": "code",
   "execution_count": 70,
   "id": "7609c6d7",
   "metadata": {},
   "outputs": [
    {
     "data": {
      "text/plain": [
       "['UseCase1.h5']"
      ]
     },
     "execution_count": 70,
     "metadata": {},
     "output_type": "execute_result"
    }
   ],
   "source": [
    "dump(model, 'UseCase1.h5')"
   ]
  },
  {
   "cell_type": "code",
   "execution_count": 71,
   "id": "c2931e42",
   "metadata": {},
   "outputs": [],
   "source": [
    "preds = model.predict(X_test)"
   ]
  },
  {
   "cell_type": "code",
   "execution_count": 72,
   "id": "e6317e24",
   "metadata": {},
   "outputs": [
    {
     "data": {
      "text/plain": [
       "-0.006390587639772294"
      ]
     },
     "execution_count": 72,
     "metadata": {},
     "output_type": "execute_result"
    }
   ],
   "source": [
    "from sklearn.metrics import r2_score\n",
    "r2_score(y_test, preds)"
   ]
  },
  {
   "cell_type": "markdown",
   "id": "36aaba32",
   "metadata": {},
   "source": [
    "### UPCS with 0 allocation"
   ]
  },
  {
   "cell_type": "code",
   "execution_count": 73,
   "id": "b8f93ea4",
   "metadata": {},
   "outputs": [],
   "source": [
    "for d in jc_adjusted_products.items():\n",
    "    if d[1] == 0.0:\n",
    "        print(d[0])"
   ]
  }
 ],
 "metadata": {
  "kernelspec": {
   "display_name": "Python 3 (ipykernel)",
   "language": "python",
   "name": "python3"
  },
  "language_info": {
   "codemirror_mode": {
    "name": "ipython",
    "version": 3
   },
   "file_extension": ".py",
   "mimetype": "text/x-python",
   "name": "python",
   "nbconvert_exporter": "python",
   "pygments_lexer": "ipython3",
   "version": "3.10.5"
  }
 },
 "nbformat": 4,
 "nbformat_minor": 5
}
